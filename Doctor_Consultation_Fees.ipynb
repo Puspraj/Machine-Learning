{
 "cells": [
  {
   "cell_type": "code",
   "execution_count": 66,
   "metadata": {},
   "outputs": [],
   "source": [
    "import pandas as pd\n",
    "import re\n",
    "import numpy as np\n",
    "import matplotlib.pyplot as plt\n",
    "import seaborn as sns\n",
    "from sklearn.linear_model import LinearRegression\n",
    "from sklearn.svm import SVR\n",
    "from sklearn.neighbors import KNeighborsRegressor\n",
    "from sklearn.tree import DecisionTreeRegressor\n",
    "from sklearn.ensemble import RandomForestRegressor\n",
    "from sklearn.metrics import r2_score, mean_squared_error, mean_absolute_error\n",
    "import warnings\n",
    "warnings.filterwarnings('ignore')"
   ]
  },
  {
   "cell_type": "code",
   "execution_count": 2,
   "metadata": {},
   "outputs": [
    {
     "data": {
      "text/html": [
       "<div>\n",
       "<style scoped>\n",
       "    .dataframe tbody tr th:only-of-type {\n",
       "        vertical-align: middle;\n",
       "    }\n",
       "\n",
       "    .dataframe tbody tr th {\n",
       "        vertical-align: top;\n",
       "    }\n",
       "\n",
       "    .dataframe thead th {\n",
       "        text-align: right;\n",
       "    }\n",
       "</style>\n",
       "<table border=\"1\" class=\"dataframe\">\n",
       "  <thead>\n",
       "    <tr style=\"text-align: right;\">\n",
       "      <th></th>\n",
       "      <th>Qualification</th>\n",
       "      <th>Experience</th>\n",
       "      <th>Rating</th>\n",
       "      <th>Place</th>\n",
       "      <th>Profile</th>\n",
       "      <th>Miscellaneous_Info</th>\n",
       "      <th>Fees</th>\n",
       "    </tr>\n",
       "  </thead>\n",
       "  <tbody>\n",
       "    <tr>\n",
       "      <td>0</td>\n",
       "      <td>BHMS, MD - Homeopathy</td>\n",
       "      <td>24 years experience</td>\n",
       "      <td>100%</td>\n",
       "      <td>Kakkanad, Ernakulam</td>\n",
       "      <td>Homeopath</td>\n",
       "      <td>100% 16 Feedback Kakkanad, Ernakulam</td>\n",
       "      <td>100</td>\n",
       "    </tr>\n",
       "    <tr>\n",
       "      <td>1</td>\n",
       "      <td>BAMS, MD - Ayurveda Medicine</td>\n",
       "      <td>12 years experience</td>\n",
       "      <td>98%</td>\n",
       "      <td>Whitefield, Bangalore</td>\n",
       "      <td>Ayurveda</td>\n",
       "      <td>98% 76 Feedback Whitefield, Bangalore</td>\n",
       "      <td>350</td>\n",
       "    </tr>\n",
       "    <tr>\n",
       "      <td>2</td>\n",
       "      <td>MBBS, MS - Otorhinolaryngology</td>\n",
       "      <td>9 years experience</td>\n",
       "      <td>NaN</td>\n",
       "      <td>Mathikere - BEL, Bangalore</td>\n",
       "      <td>ENT Specialist</td>\n",
       "      <td>NaN</td>\n",
       "      <td>300</td>\n",
       "    </tr>\n",
       "    <tr>\n",
       "      <td>3</td>\n",
       "      <td>BSc - Zoology, BAMS</td>\n",
       "      <td>12 years experience</td>\n",
       "      <td>NaN</td>\n",
       "      <td>Bannerghatta Road, Bangalore</td>\n",
       "      <td>Ayurveda</td>\n",
       "      <td>Bannerghatta Road, Bangalore ₹250 Available on...</td>\n",
       "      <td>250</td>\n",
       "    </tr>\n",
       "    <tr>\n",
       "      <td>4</td>\n",
       "      <td>BAMS</td>\n",
       "      <td>20 years experience</td>\n",
       "      <td>100%</td>\n",
       "      <td>Keelkattalai, Chennai</td>\n",
       "      <td>Ayurveda</td>\n",
       "      <td>100% 4 Feedback Keelkattalai, Chennai</td>\n",
       "      <td>250</td>\n",
       "    </tr>\n",
       "  </tbody>\n",
       "</table>\n",
       "</div>"
      ],
      "text/plain": [
       "                    Qualification           Experience Rating  \\\n",
       "0           BHMS, MD - Homeopathy  24 years experience   100%   \n",
       "1    BAMS, MD - Ayurveda Medicine  12 years experience    98%   \n",
       "2  MBBS, MS - Otorhinolaryngology   9 years experience    NaN   \n",
       "3             BSc - Zoology, BAMS  12 years experience    NaN   \n",
       "4                            BAMS  20 years experience   100%   \n",
       "\n",
       "                          Place         Profile  \\\n",
       "0           Kakkanad, Ernakulam       Homeopath   \n",
       "1         Whitefield, Bangalore        Ayurveda   \n",
       "2    Mathikere - BEL, Bangalore  ENT Specialist   \n",
       "3  Bannerghatta Road, Bangalore        Ayurveda   \n",
       "4         Keelkattalai, Chennai        Ayurveda   \n",
       "\n",
       "                                  Miscellaneous_Info  Fees  \n",
       "0               100% 16 Feedback Kakkanad, Ernakulam   100  \n",
       "1              98% 76 Feedback Whitefield, Bangalore   350  \n",
       "2                                                NaN   300  \n",
       "3  Bannerghatta Road, Bangalore ₹250 Available on...   250  \n",
       "4              100% 4 Feedback Keelkattalai, Chennai   250  "
      ]
     },
     "execution_count": 2,
     "metadata": {},
     "output_type": "execute_result"
    }
   ],
   "source": [
    "data=pd.read_excel('Doc_Consultation_Fee.xlsx')\n",
    "data.head()"
   ]
  },
  {
   "cell_type": "code",
   "execution_count": 3,
   "metadata": {},
   "outputs": [
    {
     "name": "stdout",
     "output_type": "stream",
     "text": [
      "<class 'pandas.core.frame.DataFrame'>\n",
      "RangeIndex: 5961 entries, 0 to 5960\n",
      "Data columns (total 7 columns):\n",
      "Qualification         5961 non-null object\n",
      "Experience            5961 non-null object\n",
      "Rating                2659 non-null object\n",
      "Place                 5936 non-null object\n",
      "Profile               5961 non-null object\n",
      "Miscellaneous_Info    3341 non-null object\n",
      "Fees                  5961 non-null int64\n",
      "dtypes: int64(1), object(6)\n",
      "memory usage: 326.1+ KB\n"
     ]
    }
   ],
   "source": [
    "data.info()"
   ]
  },
  {
   "cell_type": "code",
   "execution_count": 4,
   "metadata": {},
   "outputs": [
    {
     "data": {
      "text/plain": [
       "Qualification            0\n",
       "Experience               0\n",
       "Rating                3302\n",
       "Place                   25\n",
       "Profile                  0\n",
       "Miscellaneous_Info    2620\n",
       "Fees                     0\n",
       "dtype: int64"
      ]
     },
     "execution_count": 4,
     "metadata": {},
     "output_type": "execute_result"
    }
   ],
   "source": [
    "data.isnull().sum()"
   ]
  },
  {
   "cell_type": "code",
   "execution_count": 5,
   "metadata": {},
   "outputs": [
    {
     "data": {
      "text/html": [
       "<div>\n",
       "<style scoped>\n",
       "    .dataframe tbody tr th:only-of-type {\n",
       "        vertical-align: middle;\n",
       "    }\n",
       "\n",
       "    .dataframe tbody tr th {\n",
       "        vertical-align: top;\n",
       "    }\n",
       "\n",
       "    .dataframe thead th {\n",
       "        text-align: right;\n",
       "    }\n",
       "</style>\n",
       "<table border=\"1\" class=\"dataframe\">\n",
       "  <thead>\n",
       "    <tr style=\"text-align: right;\">\n",
       "      <th></th>\n",
       "      <th>Qualification</th>\n",
       "      <th>Experience</th>\n",
       "      <th>Rating</th>\n",
       "      <th>Place</th>\n",
       "      <th>Profile</th>\n",
       "      <th>Miscellaneous_Info</th>\n",
       "      <th>Fees</th>\n",
       "    </tr>\n",
       "  </thead>\n",
       "  <tbody>\n",
       "    <tr>\n",
       "      <td>0</td>\n",
       "      <td>BHMS, MD - Homeopathy</td>\n",
       "      <td>24 years experience</td>\n",
       "      <td>100%</td>\n",
       "      <td>Kakkanad, Ernakulam</td>\n",
       "      <td>Homeopath</td>\n",
       "      <td>100% 16 Feedback Kakkanad, Ernakulam</td>\n",
       "      <td>100</td>\n",
       "    </tr>\n",
       "    <tr>\n",
       "      <td>1</td>\n",
       "      <td>BAMS, MD - Ayurveda Medicine</td>\n",
       "      <td>12 years experience</td>\n",
       "      <td>98%</td>\n",
       "      <td>Whitefield, Bangalore</td>\n",
       "      <td>Ayurveda</td>\n",
       "      <td>98% 76 Feedback Whitefield, Bangalore</td>\n",
       "      <td>350</td>\n",
       "    </tr>\n",
       "    <tr>\n",
       "      <td>2</td>\n",
       "      <td>MBBS, MS - Otorhinolaryngology</td>\n",
       "      <td>9 years experience</td>\n",
       "      <td>NaN</td>\n",
       "      <td>Mathikere - BEL, Bangalore</td>\n",
       "      <td>ENT Specialist</td>\n",
       "      <td>NaN</td>\n",
       "      <td>300</td>\n",
       "    </tr>\n",
       "    <tr>\n",
       "      <td>3</td>\n",
       "      <td>BSc - Zoology, BAMS</td>\n",
       "      <td>12 years experience</td>\n",
       "      <td>NaN</td>\n",
       "      <td>Bannerghatta Road, Bangalore</td>\n",
       "      <td>Ayurveda</td>\n",
       "      <td>Bannerghatta Road, Bangalore ₹250 Available on...</td>\n",
       "      <td>250</td>\n",
       "    </tr>\n",
       "    <tr>\n",
       "      <td>4</td>\n",
       "      <td>BAMS</td>\n",
       "      <td>20 years experience</td>\n",
       "      <td>100%</td>\n",
       "      <td>Keelkattalai, Chennai</td>\n",
       "      <td>Ayurveda</td>\n",
       "      <td>100% 4 Feedback Keelkattalai, Chennai</td>\n",
       "      <td>250</td>\n",
       "    </tr>\n",
       "  </tbody>\n",
       "</table>\n",
       "</div>"
      ],
      "text/plain": [
       "                    Qualification           Experience Rating  \\\n",
       "0           BHMS, MD - Homeopathy  24 years experience   100%   \n",
       "1    BAMS, MD - Ayurveda Medicine  12 years experience    98%   \n",
       "2  MBBS, MS - Otorhinolaryngology   9 years experience    NaN   \n",
       "3             BSc - Zoology, BAMS  12 years experience    NaN   \n",
       "4                            BAMS  20 years experience   100%   \n",
       "\n",
       "                          Place         Profile  \\\n",
       "0           Kakkanad, Ernakulam       Homeopath   \n",
       "1         Whitefield, Bangalore        Ayurveda   \n",
       "2    Mathikere - BEL, Bangalore  ENT Specialist   \n",
       "3  Bannerghatta Road, Bangalore        Ayurveda   \n",
       "4         Keelkattalai, Chennai        Ayurveda   \n",
       "\n",
       "                                  Miscellaneous_Info  Fees  \n",
       "0               100% 16 Feedback Kakkanad, Ernakulam   100  \n",
       "1              98% 76 Feedback Whitefield, Bangalore   350  \n",
       "2                                                NaN   300  \n",
       "3  Bannerghatta Road, Bangalore ₹250 Available on...   250  \n",
       "4              100% 4 Feedback Keelkattalai, Chennai   250  "
      ]
     },
     "execution_count": 5,
     "metadata": {},
     "output_type": "execute_result"
    }
   ],
   "source": [
    "data.head()"
   ]
  },
  {
   "cell_type": "code",
   "execution_count": 6,
   "metadata": {},
   "outputs": [],
   "source": [
    "data['Exper_year']=data['Experience'].str.replace('years experience','').astype('int64')\n",
    "data.drop('Experience',axis=1,inplace=True)"
   ]
  },
  {
   "cell_type": "code",
   "execution_count": 7,
   "metadata": {},
   "outputs": [
    {
     "data": {
      "text/html": [
       "<div>\n",
       "<style scoped>\n",
       "    .dataframe tbody tr th:only-of-type {\n",
       "        vertical-align: middle;\n",
       "    }\n",
       "\n",
       "    .dataframe tbody tr th {\n",
       "        vertical-align: top;\n",
       "    }\n",
       "\n",
       "    .dataframe thead th {\n",
       "        text-align: right;\n",
       "    }\n",
       "</style>\n",
       "<table border=\"1\" class=\"dataframe\">\n",
       "  <thead>\n",
       "    <tr style=\"text-align: right;\">\n",
       "      <th></th>\n",
       "      <th>Qualification</th>\n",
       "      <th>Rating</th>\n",
       "      <th>Place</th>\n",
       "      <th>Profile</th>\n",
       "      <th>Miscellaneous_Info</th>\n",
       "      <th>Fees</th>\n",
       "      <th>Exper_year</th>\n",
       "    </tr>\n",
       "  </thead>\n",
       "  <tbody>\n",
       "    <tr>\n",
       "      <td>0</td>\n",
       "      <td>BHMS, MD - Homeopathy</td>\n",
       "      <td>100%</td>\n",
       "      <td>Kakkanad, Ernakulam</td>\n",
       "      <td>Homeopath</td>\n",
       "      <td>100% 16 Feedback Kakkanad, Ernakulam</td>\n",
       "      <td>100</td>\n",
       "      <td>24</td>\n",
       "    </tr>\n",
       "    <tr>\n",
       "      <td>1</td>\n",
       "      <td>BAMS, MD - Ayurveda Medicine</td>\n",
       "      <td>98%</td>\n",
       "      <td>Whitefield, Bangalore</td>\n",
       "      <td>Ayurveda</td>\n",
       "      <td>98% 76 Feedback Whitefield, Bangalore</td>\n",
       "      <td>350</td>\n",
       "      <td>12</td>\n",
       "    </tr>\n",
       "    <tr>\n",
       "      <td>2</td>\n",
       "      <td>MBBS, MS - Otorhinolaryngology</td>\n",
       "      <td>NaN</td>\n",
       "      <td>Mathikere - BEL, Bangalore</td>\n",
       "      <td>ENT Specialist</td>\n",
       "      <td>NaN</td>\n",
       "      <td>300</td>\n",
       "      <td>9</td>\n",
       "    </tr>\n",
       "    <tr>\n",
       "      <td>3</td>\n",
       "      <td>BSc - Zoology, BAMS</td>\n",
       "      <td>NaN</td>\n",
       "      <td>Bannerghatta Road, Bangalore</td>\n",
       "      <td>Ayurveda</td>\n",
       "      <td>Bannerghatta Road, Bangalore ₹250 Available on...</td>\n",
       "      <td>250</td>\n",
       "      <td>12</td>\n",
       "    </tr>\n",
       "    <tr>\n",
       "      <td>4</td>\n",
       "      <td>BAMS</td>\n",
       "      <td>100%</td>\n",
       "      <td>Keelkattalai, Chennai</td>\n",
       "      <td>Ayurveda</td>\n",
       "      <td>100% 4 Feedback Keelkattalai, Chennai</td>\n",
       "      <td>250</td>\n",
       "      <td>20</td>\n",
       "    </tr>\n",
       "  </tbody>\n",
       "</table>\n",
       "</div>"
      ],
      "text/plain": [
       "                    Qualification Rating                         Place  \\\n",
       "0           BHMS, MD - Homeopathy   100%           Kakkanad, Ernakulam   \n",
       "1    BAMS, MD - Ayurveda Medicine    98%         Whitefield, Bangalore   \n",
       "2  MBBS, MS - Otorhinolaryngology    NaN    Mathikere - BEL, Bangalore   \n",
       "3             BSc - Zoology, BAMS    NaN  Bannerghatta Road, Bangalore   \n",
       "4                            BAMS   100%         Keelkattalai, Chennai   \n",
       "\n",
       "          Profile                                 Miscellaneous_Info  Fees  \\\n",
       "0       Homeopath               100% 16 Feedback Kakkanad, Ernakulam   100   \n",
       "1        Ayurveda              98% 76 Feedback Whitefield, Bangalore   350   \n",
       "2  ENT Specialist                                                NaN   300   \n",
       "3        Ayurveda  Bannerghatta Road, Bangalore ₹250 Available on...   250   \n",
       "4        Ayurveda              100% 4 Feedback Keelkattalai, Chennai   250   \n",
       "\n",
       "   Exper_year  \n",
       "0          24  \n",
       "1          12  \n",
       "2           9  \n",
       "3          12  \n",
       "4          20  "
      ]
     },
     "execution_count": 7,
     "metadata": {},
     "output_type": "execute_result"
    }
   ],
   "source": [
    "data.head()"
   ]
  },
  {
   "cell_type": "code",
   "execution_count": 8,
   "metadata": {},
   "outputs": [],
   "source": [
    "data['Rating'].fillna('0%',inplace=True)"
   ]
  },
  {
   "cell_type": "code",
   "execution_count": 9,
   "metadata": {},
   "outputs": [
    {
     "data": {
      "text/html": [
       "<div>\n",
       "<style scoped>\n",
       "    .dataframe tbody tr th:only-of-type {\n",
       "        vertical-align: middle;\n",
       "    }\n",
       "\n",
       "    .dataframe tbody tr th {\n",
       "        vertical-align: top;\n",
       "    }\n",
       "\n",
       "    .dataframe thead th {\n",
       "        text-align: right;\n",
       "    }\n",
       "</style>\n",
       "<table border=\"1\" class=\"dataframe\">\n",
       "  <thead>\n",
       "    <tr style=\"text-align: right;\">\n",
       "      <th></th>\n",
       "      <th>Qualification</th>\n",
       "      <th>Rating</th>\n",
       "      <th>Place</th>\n",
       "      <th>Profile</th>\n",
       "      <th>Miscellaneous_Info</th>\n",
       "      <th>Fees</th>\n",
       "      <th>Exper_year</th>\n",
       "    </tr>\n",
       "  </thead>\n",
       "  <tbody>\n",
       "    <tr>\n",
       "      <td>0</td>\n",
       "      <td>BHMS, MD - Homeopathy</td>\n",
       "      <td>100%</td>\n",
       "      <td>Kakkanad, Ernakulam</td>\n",
       "      <td>Homeopath</td>\n",
       "      <td>100% 16 Feedback Kakkanad, Ernakulam</td>\n",
       "      <td>100</td>\n",
       "      <td>24</td>\n",
       "    </tr>\n",
       "    <tr>\n",
       "      <td>1</td>\n",
       "      <td>BAMS, MD - Ayurveda Medicine</td>\n",
       "      <td>98%</td>\n",
       "      <td>Whitefield, Bangalore</td>\n",
       "      <td>Ayurveda</td>\n",
       "      <td>98% 76 Feedback Whitefield, Bangalore</td>\n",
       "      <td>350</td>\n",
       "      <td>12</td>\n",
       "    </tr>\n",
       "    <tr>\n",
       "      <td>2</td>\n",
       "      <td>MBBS, MS - Otorhinolaryngology</td>\n",
       "      <td>0%</td>\n",
       "      <td>Mathikere - BEL, Bangalore</td>\n",
       "      <td>ENT Specialist</td>\n",
       "      <td>NaN</td>\n",
       "      <td>300</td>\n",
       "      <td>9</td>\n",
       "    </tr>\n",
       "    <tr>\n",
       "      <td>3</td>\n",
       "      <td>BSc - Zoology, BAMS</td>\n",
       "      <td>0%</td>\n",
       "      <td>Bannerghatta Road, Bangalore</td>\n",
       "      <td>Ayurveda</td>\n",
       "      <td>Bannerghatta Road, Bangalore ₹250 Available on...</td>\n",
       "      <td>250</td>\n",
       "      <td>12</td>\n",
       "    </tr>\n",
       "    <tr>\n",
       "      <td>4</td>\n",
       "      <td>BAMS</td>\n",
       "      <td>100%</td>\n",
       "      <td>Keelkattalai, Chennai</td>\n",
       "      <td>Ayurveda</td>\n",
       "      <td>100% 4 Feedback Keelkattalai, Chennai</td>\n",
       "      <td>250</td>\n",
       "      <td>20</td>\n",
       "    </tr>\n",
       "  </tbody>\n",
       "</table>\n",
       "</div>"
      ],
      "text/plain": [
       "                    Qualification Rating                         Place  \\\n",
       "0           BHMS, MD - Homeopathy   100%           Kakkanad, Ernakulam   \n",
       "1    BAMS, MD - Ayurveda Medicine    98%         Whitefield, Bangalore   \n",
       "2  MBBS, MS - Otorhinolaryngology     0%    Mathikere - BEL, Bangalore   \n",
       "3             BSc - Zoology, BAMS     0%  Bannerghatta Road, Bangalore   \n",
       "4                            BAMS   100%         Keelkattalai, Chennai   \n",
       "\n",
       "          Profile                                 Miscellaneous_Info  Fees  \\\n",
       "0       Homeopath               100% 16 Feedback Kakkanad, Ernakulam   100   \n",
       "1        Ayurveda              98% 76 Feedback Whitefield, Bangalore   350   \n",
       "2  ENT Specialist                                                NaN   300   \n",
       "3        Ayurveda  Bannerghatta Road, Bangalore ₹250 Available on...   250   \n",
       "4        Ayurveda              100% 4 Feedback Keelkattalai, Chennai   250   \n",
       "\n",
       "   Exper_year  \n",
       "0          24  \n",
       "1          12  \n",
       "2           9  \n",
       "3          12  \n",
       "4          20  "
      ]
     },
     "execution_count": 9,
     "metadata": {},
     "output_type": "execute_result"
    }
   ],
   "source": [
    "data.head()"
   ]
  },
  {
   "cell_type": "code",
   "execution_count": 10,
   "metadata": {},
   "outputs": [],
   "source": [
    "def rating(text):\n",
    "    text=re.sub(r'%',' ',str(text))\n",
    "    return text\n",
    "data['Rating']=data['Rating'].apply(rating)\n",
    "data['Rating']=data['Rating'].astype('int64')"
   ]
  },
  {
   "cell_type": "code",
   "execution_count": 11,
   "metadata": {},
   "outputs": [
    {
     "data": {
      "text/html": [
       "<div>\n",
       "<style scoped>\n",
       "    .dataframe tbody tr th:only-of-type {\n",
       "        vertical-align: middle;\n",
       "    }\n",
       "\n",
       "    .dataframe tbody tr th {\n",
       "        vertical-align: top;\n",
       "    }\n",
       "\n",
       "    .dataframe thead th {\n",
       "        text-align: right;\n",
       "    }\n",
       "</style>\n",
       "<table border=\"1\" class=\"dataframe\">\n",
       "  <thead>\n",
       "    <tr style=\"text-align: right;\">\n",
       "      <th></th>\n",
       "      <th>Qualification</th>\n",
       "      <th>Rating</th>\n",
       "      <th>Place</th>\n",
       "      <th>Profile</th>\n",
       "      <th>Miscellaneous_Info</th>\n",
       "      <th>Fees</th>\n",
       "      <th>Exper_year</th>\n",
       "    </tr>\n",
       "  </thead>\n",
       "  <tbody>\n",
       "    <tr>\n",
       "      <td>0</td>\n",
       "      <td>BHMS, MD - Homeopathy</td>\n",
       "      <td>100</td>\n",
       "      <td>Kakkanad, Ernakulam</td>\n",
       "      <td>Homeopath</td>\n",
       "      <td>100% 16 Feedback Kakkanad, Ernakulam</td>\n",
       "      <td>100</td>\n",
       "      <td>24</td>\n",
       "    </tr>\n",
       "    <tr>\n",
       "      <td>1</td>\n",
       "      <td>BAMS, MD - Ayurveda Medicine</td>\n",
       "      <td>98</td>\n",
       "      <td>Whitefield, Bangalore</td>\n",
       "      <td>Ayurveda</td>\n",
       "      <td>98% 76 Feedback Whitefield, Bangalore</td>\n",
       "      <td>350</td>\n",
       "      <td>12</td>\n",
       "    </tr>\n",
       "    <tr>\n",
       "      <td>2</td>\n",
       "      <td>MBBS, MS - Otorhinolaryngology</td>\n",
       "      <td>0</td>\n",
       "      <td>Mathikere - BEL, Bangalore</td>\n",
       "      <td>ENT Specialist</td>\n",
       "      <td>NaN</td>\n",
       "      <td>300</td>\n",
       "      <td>9</td>\n",
       "    </tr>\n",
       "    <tr>\n",
       "      <td>3</td>\n",
       "      <td>BSc - Zoology, BAMS</td>\n",
       "      <td>0</td>\n",
       "      <td>Bannerghatta Road, Bangalore</td>\n",
       "      <td>Ayurveda</td>\n",
       "      <td>Bannerghatta Road, Bangalore ₹250 Available on...</td>\n",
       "      <td>250</td>\n",
       "      <td>12</td>\n",
       "    </tr>\n",
       "    <tr>\n",
       "      <td>4</td>\n",
       "      <td>BAMS</td>\n",
       "      <td>100</td>\n",
       "      <td>Keelkattalai, Chennai</td>\n",
       "      <td>Ayurveda</td>\n",
       "      <td>100% 4 Feedback Keelkattalai, Chennai</td>\n",
       "      <td>250</td>\n",
       "      <td>20</td>\n",
       "    </tr>\n",
       "  </tbody>\n",
       "</table>\n",
       "</div>"
      ],
      "text/plain": [
       "                    Qualification  Rating                         Place  \\\n",
       "0           BHMS, MD - Homeopathy     100           Kakkanad, Ernakulam   \n",
       "1    BAMS, MD - Ayurveda Medicine      98         Whitefield, Bangalore   \n",
       "2  MBBS, MS - Otorhinolaryngology       0    Mathikere - BEL, Bangalore   \n",
       "3             BSc - Zoology, BAMS       0  Bannerghatta Road, Bangalore   \n",
       "4                            BAMS     100         Keelkattalai, Chennai   \n",
       "\n",
       "          Profile                                 Miscellaneous_Info  Fees  \\\n",
       "0       Homeopath               100% 16 Feedback Kakkanad, Ernakulam   100   \n",
       "1        Ayurveda              98% 76 Feedback Whitefield, Bangalore   350   \n",
       "2  ENT Specialist                                                NaN   300   \n",
       "3        Ayurveda  Bannerghatta Road, Bangalore ₹250 Available on...   250   \n",
       "4        Ayurveda              100% 4 Feedback Keelkattalai, Chennai   250   \n",
       "\n",
       "   Exper_year  \n",
       "0          24  \n",
       "1          12  \n",
       "2           9  \n",
       "3          12  \n",
       "4          20  "
      ]
     },
     "execution_count": 11,
     "metadata": {},
     "output_type": "execute_result"
    }
   ],
   "source": [
    "data.head()"
   ]
  },
  {
   "cell_type": "code",
   "execution_count": 12,
   "metadata": {},
   "outputs": [
    {
     "data": {
      "text/plain": [
       "25"
      ]
     },
     "execution_count": 12,
     "metadata": {},
     "output_type": "execute_result"
    }
   ],
   "source": [
    "data['Place'].isnull().sum()"
   ]
  },
  {
   "cell_type": "code",
   "execution_count": 12,
   "metadata": {},
   "outputs": [],
   "source": [
    "data[\"Place\"].fillna(\"None\",inplace=True)"
   ]
  },
  {
   "cell_type": "code",
   "execution_count": 13,
   "metadata": {},
   "outputs": [
    {
     "data": {
      "text/plain": [
       "0"
      ]
     },
     "execution_count": 13,
     "metadata": {},
     "output_type": "execute_result"
    }
   ],
   "source": [
    "data.Place.isnull().sum()"
   ]
  },
  {
   "cell_type": "code",
   "execution_count": 14,
   "metadata": {},
   "outputs": [],
   "source": [
    "def place_data(text):\n",
    "    text=str(text).lower()\n",
    "    text=re.sub(r'[^a-z0-9]',' ',text)\n",
    "    text=re.sub(r'\\s',' ',text)\n",
    "    return text\n",
    "data['Place']=data['Place'].apply(place_data)"
   ]
  },
  {
   "cell_type": "code",
   "execution_count": 15,
   "metadata": {},
   "outputs": [
    {
     "data": {
      "text/html": [
       "<div>\n",
       "<style scoped>\n",
       "    .dataframe tbody tr th:only-of-type {\n",
       "        vertical-align: middle;\n",
       "    }\n",
       "\n",
       "    .dataframe tbody tr th {\n",
       "        vertical-align: top;\n",
       "    }\n",
       "\n",
       "    .dataframe thead th {\n",
       "        text-align: right;\n",
       "    }\n",
       "</style>\n",
       "<table border=\"1\" class=\"dataframe\">\n",
       "  <thead>\n",
       "    <tr style=\"text-align: right;\">\n",
       "      <th></th>\n",
       "      <th>Qualification</th>\n",
       "      <th>Rating</th>\n",
       "      <th>Place</th>\n",
       "      <th>Profile</th>\n",
       "      <th>Miscellaneous_Info</th>\n",
       "      <th>Fees</th>\n",
       "      <th>Exper_year</th>\n",
       "    </tr>\n",
       "  </thead>\n",
       "  <tbody>\n",
       "    <tr>\n",
       "      <td>0</td>\n",
       "      <td>BHMS, MD - Homeopathy</td>\n",
       "      <td>100</td>\n",
       "      <td>kakkanad  ernakulam</td>\n",
       "      <td>Homeopath</td>\n",
       "      <td>100% 16 Feedback Kakkanad, Ernakulam</td>\n",
       "      <td>100</td>\n",
       "      <td>24</td>\n",
       "    </tr>\n",
       "    <tr>\n",
       "      <td>1</td>\n",
       "      <td>BAMS, MD - Ayurveda Medicine</td>\n",
       "      <td>98</td>\n",
       "      <td>whitefield  bangalore</td>\n",
       "      <td>Ayurveda</td>\n",
       "      <td>98% 76 Feedback Whitefield, Bangalore</td>\n",
       "      <td>350</td>\n",
       "      <td>12</td>\n",
       "    </tr>\n",
       "    <tr>\n",
       "      <td>2</td>\n",
       "      <td>MBBS, MS - Otorhinolaryngology</td>\n",
       "      <td>0</td>\n",
       "      <td>mathikere   bel  bangalore</td>\n",
       "      <td>ENT Specialist</td>\n",
       "      <td>NaN</td>\n",
       "      <td>300</td>\n",
       "      <td>9</td>\n",
       "    </tr>\n",
       "    <tr>\n",
       "      <td>3</td>\n",
       "      <td>BSc - Zoology, BAMS</td>\n",
       "      <td>0</td>\n",
       "      <td>bannerghatta road  bangalore</td>\n",
       "      <td>Ayurveda</td>\n",
       "      <td>Bannerghatta Road, Bangalore ₹250 Available on...</td>\n",
       "      <td>250</td>\n",
       "      <td>12</td>\n",
       "    </tr>\n",
       "    <tr>\n",
       "      <td>4</td>\n",
       "      <td>BAMS</td>\n",
       "      <td>100</td>\n",
       "      <td>keelkattalai  chennai</td>\n",
       "      <td>Ayurveda</td>\n",
       "      <td>100% 4 Feedback Keelkattalai, Chennai</td>\n",
       "      <td>250</td>\n",
       "      <td>20</td>\n",
       "    </tr>\n",
       "  </tbody>\n",
       "</table>\n",
       "</div>"
      ],
      "text/plain": [
       "                    Qualification  Rating                         Place  \\\n",
       "0           BHMS, MD - Homeopathy     100           kakkanad  ernakulam   \n",
       "1    BAMS, MD - Ayurveda Medicine      98         whitefield  bangalore   \n",
       "2  MBBS, MS - Otorhinolaryngology       0    mathikere   bel  bangalore   \n",
       "3             BSc - Zoology, BAMS       0  bannerghatta road  bangalore   \n",
       "4                            BAMS     100         keelkattalai  chennai   \n",
       "\n",
       "          Profile                                 Miscellaneous_Info  Fees  \\\n",
       "0       Homeopath               100% 16 Feedback Kakkanad, Ernakulam   100   \n",
       "1        Ayurveda              98% 76 Feedback Whitefield, Bangalore   350   \n",
       "2  ENT Specialist                                                NaN   300   \n",
       "3        Ayurveda  Bannerghatta Road, Bangalore ₹250 Available on...   250   \n",
       "4        Ayurveda              100% 4 Feedback Keelkattalai, Chennai   250   \n",
       "\n",
       "   Exper_year  \n",
       "0          24  \n",
       "1          12  \n",
       "2           9  \n",
       "3          12  \n",
       "4          20  "
      ]
     },
     "execution_count": 15,
     "metadata": {},
     "output_type": "execute_result"
    }
   ],
   "source": [
    "data.head()"
   ]
  },
  {
   "cell_type": "code",
   "execution_count": 16,
   "metadata": {},
   "outputs": [],
   "source": [
    "def qualifi_data(text):\n",
    "    text=re.sub(r'[^a-z]',' ',str(text).lower())\n",
    "    return text\n",
    "data['Qualification']=data['Qualification'].apply(qualifi_data)"
   ]
  },
  {
   "cell_type": "code",
   "execution_count": 17,
   "metadata": {},
   "outputs": [
    {
     "data": {
      "text/html": [
       "<div>\n",
       "<style scoped>\n",
       "    .dataframe tbody tr th:only-of-type {\n",
       "        vertical-align: middle;\n",
       "    }\n",
       "\n",
       "    .dataframe tbody tr th {\n",
       "        vertical-align: top;\n",
       "    }\n",
       "\n",
       "    .dataframe thead th {\n",
       "        text-align: right;\n",
       "    }\n",
       "</style>\n",
       "<table border=\"1\" class=\"dataframe\">\n",
       "  <thead>\n",
       "    <tr style=\"text-align: right;\">\n",
       "      <th></th>\n",
       "      <th>Qualification</th>\n",
       "      <th>Rating</th>\n",
       "      <th>Place</th>\n",
       "      <th>Profile</th>\n",
       "      <th>Miscellaneous_Info</th>\n",
       "      <th>Fees</th>\n",
       "      <th>Exper_year</th>\n",
       "    </tr>\n",
       "  </thead>\n",
       "  <tbody>\n",
       "    <tr>\n",
       "      <td>0</td>\n",
       "      <td>bhms  md   homeopathy</td>\n",
       "      <td>100</td>\n",
       "      <td>kakkanad  ernakulam</td>\n",
       "      <td>Homeopath</td>\n",
       "      <td>100% 16 Feedback Kakkanad, Ernakulam</td>\n",
       "      <td>100</td>\n",
       "      <td>24</td>\n",
       "    </tr>\n",
       "    <tr>\n",
       "      <td>1</td>\n",
       "      <td>bams  md   ayurveda medicine</td>\n",
       "      <td>98</td>\n",
       "      <td>whitefield  bangalore</td>\n",
       "      <td>Ayurveda</td>\n",
       "      <td>98% 76 Feedback Whitefield, Bangalore</td>\n",
       "      <td>350</td>\n",
       "      <td>12</td>\n",
       "    </tr>\n",
       "    <tr>\n",
       "      <td>2</td>\n",
       "      <td>mbbs  ms   otorhinolaryngology</td>\n",
       "      <td>0</td>\n",
       "      <td>mathikere   bel  bangalore</td>\n",
       "      <td>ENT Specialist</td>\n",
       "      <td>NaN</td>\n",
       "      <td>300</td>\n",
       "      <td>9</td>\n",
       "    </tr>\n",
       "    <tr>\n",
       "      <td>3</td>\n",
       "      <td>bsc   zoology  bams</td>\n",
       "      <td>0</td>\n",
       "      <td>bannerghatta road  bangalore</td>\n",
       "      <td>Ayurveda</td>\n",
       "      <td>Bannerghatta Road, Bangalore ₹250 Available on...</td>\n",
       "      <td>250</td>\n",
       "      <td>12</td>\n",
       "    </tr>\n",
       "    <tr>\n",
       "      <td>4</td>\n",
       "      <td>bams</td>\n",
       "      <td>100</td>\n",
       "      <td>keelkattalai  chennai</td>\n",
       "      <td>Ayurveda</td>\n",
       "      <td>100% 4 Feedback Keelkattalai, Chennai</td>\n",
       "      <td>250</td>\n",
       "      <td>20</td>\n",
       "    </tr>\n",
       "  </tbody>\n",
       "</table>\n",
       "</div>"
      ],
      "text/plain": [
       "                    Qualification  Rating                         Place  \\\n",
       "0           bhms  md   homeopathy     100           kakkanad  ernakulam   \n",
       "1    bams  md   ayurveda medicine      98         whitefield  bangalore   \n",
       "2  mbbs  ms   otorhinolaryngology       0    mathikere   bel  bangalore   \n",
       "3             bsc   zoology  bams       0  bannerghatta road  bangalore   \n",
       "4                            bams     100         keelkattalai  chennai   \n",
       "\n",
       "          Profile                                 Miscellaneous_Info  Fees  \\\n",
       "0       Homeopath               100% 16 Feedback Kakkanad, Ernakulam   100   \n",
       "1        Ayurveda              98% 76 Feedback Whitefield, Bangalore   350   \n",
       "2  ENT Specialist                                                NaN   300   \n",
       "3        Ayurveda  Bannerghatta Road, Bangalore ₹250 Available on...   250   \n",
       "4        Ayurveda              100% 4 Feedback Keelkattalai, Chennai   250   \n",
       "\n",
       "   Exper_year  \n",
       "0          24  \n",
       "1          12  \n",
       "2           9  \n",
       "3          12  \n",
       "4          20  "
      ]
     },
     "execution_count": 17,
     "metadata": {},
     "output_type": "execute_result"
    }
   ],
   "source": [
    "data.head()"
   ]
  },
  {
   "cell_type": "code",
   "execution_count": 18,
   "metadata": {},
   "outputs": [],
   "source": [
    "#data['Miscellaneous_Info'].fillna('NO Information',inplace=True)"
   ]
  },
  {
   "cell_type": "code",
   "execution_count": 19,
   "metadata": {},
   "outputs": [],
   "source": [
    "def feed(feedback):\n",
    "    feedback=re.findall(r'\\d+ Feedback',str(feedback))\n",
    "    if feedback==[]:\n",
    "        feedback='0 Feedback'\n",
    "        return feedback\n",
    "    else:\n",
    "        return feedback[0]\n",
    "    \n",
    "data['Number_Of_Feedback']=data['Miscellaneous_Info'].apply(feed)\n",
    "data['Number_Of_Feedback']=data['Number_Of_Feedback'].str.replace('Feedback','')\n",
    "data['Number_Of_Feedback']=data['Number_Of_Feedback'].astype('int64')"
   ]
  },
  {
   "cell_type": "code",
   "execution_count": 20,
   "metadata": {},
   "outputs": [
    {
     "data": {
      "text/html": [
       "<div>\n",
       "<style scoped>\n",
       "    .dataframe tbody tr th:only-of-type {\n",
       "        vertical-align: middle;\n",
       "    }\n",
       "\n",
       "    .dataframe tbody tr th {\n",
       "        vertical-align: top;\n",
       "    }\n",
       "\n",
       "    .dataframe thead th {\n",
       "        text-align: right;\n",
       "    }\n",
       "</style>\n",
       "<table border=\"1\" class=\"dataframe\">\n",
       "  <thead>\n",
       "    <tr style=\"text-align: right;\">\n",
       "      <th></th>\n",
       "      <th>Qualification</th>\n",
       "      <th>Rating</th>\n",
       "      <th>Place</th>\n",
       "      <th>Profile</th>\n",
       "      <th>Miscellaneous_Info</th>\n",
       "      <th>Fees</th>\n",
       "      <th>Exper_year</th>\n",
       "      <th>Number_Of_Feedback</th>\n",
       "    </tr>\n",
       "  </thead>\n",
       "  <tbody>\n",
       "    <tr>\n",
       "      <td>0</td>\n",
       "      <td>bhms  md   homeopathy</td>\n",
       "      <td>100</td>\n",
       "      <td>kakkanad  ernakulam</td>\n",
       "      <td>Homeopath</td>\n",
       "      <td>100% 16 Feedback Kakkanad, Ernakulam</td>\n",
       "      <td>100</td>\n",
       "      <td>24</td>\n",
       "      <td>16</td>\n",
       "    </tr>\n",
       "    <tr>\n",
       "      <td>1</td>\n",
       "      <td>bams  md   ayurveda medicine</td>\n",
       "      <td>98</td>\n",
       "      <td>whitefield  bangalore</td>\n",
       "      <td>Ayurveda</td>\n",
       "      <td>98% 76 Feedback Whitefield, Bangalore</td>\n",
       "      <td>350</td>\n",
       "      <td>12</td>\n",
       "      <td>76</td>\n",
       "    </tr>\n",
       "    <tr>\n",
       "      <td>2</td>\n",
       "      <td>mbbs  ms   otorhinolaryngology</td>\n",
       "      <td>0</td>\n",
       "      <td>mathikere   bel  bangalore</td>\n",
       "      <td>ENT Specialist</td>\n",
       "      <td>NaN</td>\n",
       "      <td>300</td>\n",
       "      <td>9</td>\n",
       "      <td>0</td>\n",
       "    </tr>\n",
       "    <tr>\n",
       "      <td>3</td>\n",
       "      <td>bsc   zoology  bams</td>\n",
       "      <td>0</td>\n",
       "      <td>bannerghatta road  bangalore</td>\n",
       "      <td>Ayurveda</td>\n",
       "      <td>Bannerghatta Road, Bangalore ₹250 Available on...</td>\n",
       "      <td>250</td>\n",
       "      <td>12</td>\n",
       "      <td>0</td>\n",
       "    </tr>\n",
       "    <tr>\n",
       "      <td>4</td>\n",
       "      <td>bams</td>\n",
       "      <td>100</td>\n",
       "      <td>keelkattalai  chennai</td>\n",
       "      <td>Ayurveda</td>\n",
       "      <td>100% 4 Feedback Keelkattalai, Chennai</td>\n",
       "      <td>250</td>\n",
       "      <td>20</td>\n",
       "      <td>4</td>\n",
       "    </tr>\n",
       "  </tbody>\n",
       "</table>\n",
       "</div>"
      ],
      "text/plain": [
       "                    Qualification  Rating                         Place  \\\n",
       "0           bhms  md   homeopathy     100           kakkanad  ernakulam   \n",
       "1    bams  md   ayurveda medicine      98         whitefield  bangalore   \n",
       "2  mbbs  ms   otorhinolaryngology       0    mathikere   bel  bangalore   \n",
       "3             bsc   zoology  bams       0  bannerghatta road  bangalore   \n",
       "4                            bams     100         keelkattalai  chennai   \n",
       "\n",
       "          Profile                                 Miscellaneous_Info  Fees  \\\n",
       "0       Homeopath               100% 16 Feedback Kakkanad, Ernakulam   100   \n",
       "1        Ayurveda              98% 76 Feedback Whitefield, Bangalore   350   \n",
       "2  ENT Specialist                                                NaN   300   \n",
       "3        Ayurveda  Bannerghatta Road, Bangalore ₹250 Available on...   250   \n",
       "4        Ayurveda              100% 4 Feedback Keelkattalai, Chennai   250   \n",
       "\n",
       "   Exper_year  Number_Of_Feedback  \n",
       "0          24                  16  \n",
       "1          12                  76  \n",
       "2           9                   0  \n",
       "3          12                   0  \n",
       "4          20                   4  "
      ]
     },
     "execution_count": 20,
     "metadata": {},
     "output_type": "execute_result"
    }
   ],
   "source": [
    "data.head()"
   ]
  },
  {
   "cell_type": "code",
   "execution_count": 21,
   "metadata": {},
   "outputs": [],
   "source": [
    "data.drop('Miscellaneous_Info',axis=1,inplace=True)"
   ]
  },
  {
   "cell_type": "code",
   "execution_count": 22,
   "metadata": {},
   "outputs": [
    {
     "data": {
      "text/html": [
       "<div>\n",
       "<style scoped>\n",
       "    .dataframe tbody tr th:only-of-type {\n",
       "        vertical-align: middle;\n",
       "    }\n",
       "\n",
       "    .dataframe tbody tr th {\n",
       "        vertical-align: top;\n",
       "    }\n",
       "\n",
       "    .dataframe thead th {\n",
       "        text-align: right;\n",
       "    }\n",
       "</style>\n",
       "<table border=\"1\" class=\"dataframe\">\n",
       "  <thead>\n",
       "    <tr style=\"text-align: right;\">\n",
       "      <th></th>\n",
       "      <th>Qualification</th>\n",
       "      <th>Rating</th>\n",
       "      <th>Place</th>\n",
       "      <th>Profile</th>\n",
       "      <th>Fees</th>\n",
       "      <th>Exper_year</th>\n",
       "      <th>Number_Of_Feedback</th>\n",
       "    </tr>\n",
       "  </thead>\n",
       "  <tbody>\n",
       "    <tr>\n",
       "      <td>0</td>\n",
       "      <td>bhms  md   homeopathy</td>\n",
       "      <td>100</td>\n",
       "      <td>kakkanad  ernakulam</td>\n",
       "      <td>Homeopath</td>\n",
       "      <td>100</td>\n",
       "      <td>24</td>\n",
       "      <td>16</td>\n",
       "    </tr>\n",
       "    <tr>\n",
       "      <td>1</td>\n",
       "      <td>bams  md   ayurveda medicine</td>\n",
       "      <td>98</td>\n",
       "      <td>whitefield  bangalore</td>\n",
       "      <td>Ayurveda</td>\n",
       "      <td>350</td>\n",
       "      <td>12</td>\n",
       "      <td>76</td>\n",
       "    </tr>\n",
       "    <tr>\n",
       "      <td>2</td>\n",
       "      <td>mbbs  ms   otorhinolaryngology</td>\n",
       "      <td>0</td>\n",
       "      <td>mathikere   bel  bangalore</td>\n",
       "      <td>ENT Specialist</td>\n",
       "      <td>300</td>\n",
       "      <td>9</td>\n",
       "      <td>0</td>\n",
       "    </tr>\n",
       "    <tr>\n",
       "      <td>3</td>\n",
       "      <td>bsc   zoology  bams</td>\n",
       "      <td>0</td>\n",
       "      <td>bannerghatta road  bangalore</td>\n",
       "      <td>Ayurveda</td>\n",
       "      <td>250</td>\n",
       "      <td>12</td>\n",
       "      <td>0</td>\n",
       "    </tr>\n",
       "    <tr>\n",
       "      <td>4</td>\n",
       "      <td>bams</td>\n",
       "      <td>100</td>\n",
       "      <td>keelkattalai  chennai</td>\n",
       "      <td>Ayurveda</td>\n",
       "      <td>250</td>\n",
       "      <td>20</td>\n",
       "      <td>4</td>\n",
       "    </tr>\n",
       "  </tbody>\n",
       "</table>\n",
       "</div>"
      ],
      "text/plain": [
       "                    Qualification  Rating                         Place  \\\n",
       "0           bhms  md   homeopathy     100           kakkanad  ernakulam   \n",
       "1    bams  md   ayurveda medicine      98         whitefield  bangalore   \n",
       "2  mbbs  ms   otorhinolaryngology       0    mathikere   bel  bangalore   \n",
       "3             bsc   zoology  bams       0  bannerghatta road  bangalore   \n",
       "4                            bams     100         keelkattalai  chennai   \n",
       "\n",
       "          Profile  Fees  Exper_year  Number_Of_Feedback  \n",
       "0       Homeopath   100          24                  16  \n",
       "1        Ayurveda   350          12                  76  \n",
       "2  ENT Specialist   300           9                   0  \n",
       "3        Ayurveda   250          12                   0  \n",
       "4        Ayurveda   250          20                   4  "
      ]
     },
     "execution_count": 22,
     "metadata": {},
     "output_type": "execute_result"
    }
   ],
   "source": [
    "data.head()"
   ]
  },
  {
   "cell_type": "code",
   "execution_count": 23,
   "metadata": {},
   "outputs": [
    {
     "data": {
      "image/png": "[encoded data removed]",
      "text/plain": [
       "<Figure size 864x288 with 1 Axes>"
      ]
     },
     "metadata": {
      "needs_background": "light"
     },
     "output_type": "display_data"
    }
   ],
   "source": [
    "sns.catplot(\"Fees\", \"Rating\", data=data.sort_values(\"Fees\", ascending=False), kind=\"bar\", height=4, aspect=3)\n",
    "sns.set_style(\"whitegrid\")\n",
    "plt.show()"
   ]
  },
  {
   "cell_type": "code",
   "execution_count": 24,
   "metadata": {},
   "outputs": [
    {
     "data": {
      "image/png": "[encoded data removed]",
      "text/plain": [
       "<Figure size 432x288 with 1 Axes>"
      ]
     },
     "metadata": {},
     "output_type": "display_data"
    }
   ],
   "source": [
    "plt.scatter(\"Exper_year\",\"Fees\", data=data.sort_values(\"Exper_year\", ascending=False))\n",
    "plt.show()"
   ]
  },
  {
   "cell_type": "code",
   "execution_count": 25,
   "metadata": {},
   "outputs": [
    {
     "data": {
      "image/png": "[encoded data removed]",
      "text/plain": [
       "<Figure size 1440x1440 with 4 Axes>"
      ]
     },
     "metadata": {},
     "output_type": "display_data"
    }
   ],
   "source": [
    "data.hist(figsize=(20,20))\n",
    "plt.show()"
   ]
  },
  {
   "cell_type": "code",
   "execution_count": 26,
   "metadata": {},
   "outputs": [
    {
     "data": {
      "text/plain": [
       "{'whiskers': [<matplotlib.lines.Line2D at 0x28adfae3c88>,\n",
       "  <matplotlib.lines.Line2D at 0x28adfae3608>],\n",
       " 'caps': [<matplotlib.lines.Line2D at 0x28adfadac48>,\n",
       "  <matplotlib.lines.Line2D at 0x28adfafaf48>],\n",
       " 'boxes': [<matplotlib.lines.Line2D at 0x28adfae3e88>],\n",
       " 'medians': [<matplotlib.lines.Line2D at 0x28adccd93c8>],\n",
       " 'fliers': [<matplotlib.lines.Line2D at 0x28adfb0da08>],\n",
       " 'means': []}"
      ]
     },
     "execution_count": 26,
     "metadata": {},
     "output_type": "execute_result"
    },
    {
     "data": {
      "image/png": "[encoded data removed]",
      "text/plain": [
       "<Figure size 432x288 with 1 Axes>"
      ]
     },
     "metadata": {},
     "output_type": "display_data"
    }
   ],
   "source": [
    "plt.boxplot(data['Number_Of_Feedback'])"
   ]
  },
  {
   "cell_type": "code",
   "execution_count": 27,
   "metadata": {},
   "outputs": [
    {
     "data": {
      "text/plain": [
       "{'bodies': [<matplotlib.collections.PolyCollection at 0x28adfa75348>],\n",
       " 'cmaxes': <matplotlib.collections.LineCollection at 0x28adf9c5208>,\n",
       " 'cmins': <matplotlib.collections.LineCollection at 0x28adfa75e88>,\n",
       " 'cbars': <matplotlib.collections.LineCollection at 0x28adfadab08>}"
      ]
     },
     "execution_count": 27,
     "metadata": {},
     "output_type": "execute_result"
    },
    {
     "data": {
      "image/png": "[encoded data removed]",
      "text/plain": [
       "<Figure size 432x288 with 1 Axes>"
      ]
     },
     "metadata": {},
     "output_type": "display_data"
    }
   ],
   "source": [
    "plt.violinplot(data['Rating'])"
   ]
  },
  {
   "cell_type": "code",
   "execution_count": 28,
   "metadata": {},
   "outputs": [
    {
     "data": {
      "text/plain": [
       "<matplotlib.collections.PathCollection at 0x28adf2b9688>"
      ]
     },
     "execution_count": 28,
     "metadata": {},
     "output_type": "execute_result"
    },
    {
     "data": {
      "image/png": "[encoded data removed]",
      "text/plain": [
       "<Figure size 432x288 with 1 Axes>"
      ]
     },
     "metadata": {},
     "output_type": "display_data"
    }
   ],
   "source": [
    "plt.scatter('Fees','Profile',data=data)"
   ]
  },
  {
   "cell_type": "code",
   "execution_count": 29,
   "metadata": {},
   "outputs": [
    {
     "data": {
      "text/plain": [
       "<seaborn.axisgrid.FacetGrid at 0x28adf9ae848>"
      ]
     },
     "execution_count": 29,
     "metadata": {},
     "output_type": "execute_result"
    },
    {
     "data": {
      "image/png": "[encoded data removed]",
      "text/plain": [
       "<Figure size 576x288 with 1 Axes>"
      ]
     },
     "metadata": {},
     "output_type": "display_data"
    }
   ],
   "source": [
    "sns.catplot('Profile','Fees',data=data,palette='ocean',kind='bar', height=4, aspect=2)"
   ]
  },
  {
   "cell_type": "code",
   "execution_count": 30,
   "metadata": {},
   "outputs": [
    {
     "data": {
      "text/plain": [
       "<seaborn.axisgrid.JointGrid at 0x28adf58e288>"
      ]
     },
     "execution_count": 30,
     "metadata": {},
     "output_type": "execute_result"
    },
    {
     "data": {
      "image/png": "[encoded data removed]",
      "text/plain": [
       "<Figure size 432x432 with 3 Axes>"
      ]
     },
     "metadata": {},
     "output_type": "display_data"
    }
   ],
   "source": [
    "sns.jointplot('Rating','Fees',data=data,height=6,ratio=5,kind='scatter')"
   ]
  },
  {
   "cell_type": "code",
   "execution_count": 31,
   "metadata": {},
   "outputs": [
    {
     "data": {
      "text/plain": [
       "<seaborn.axisgrid.JointGrid at 0x28ae054f0c8>"
      ]
     },
     "execution_count": 31,
     "metadata": {},
     "output_type": "execute_result"
    },
    {
     "data": {
      "image/png": "[encoded data removed]",
      "text/plain": [
       "<Figure size 432x432 with 3 Axes>"
      ]
     },
     "metadata": {},
     "output_type": "display_data"
    }
   ],
   "source": [
    "sns.jointplot('Rating','Exper_year',data=data,height=6,ratio=5,kind='kde')"
   ]
  },
  {
   "cell_type": "code",
   "execution_count": 32,
   "metadata": {},
   "outputs": [
    {
     "data": {
      "text/html": [
       "<div>\n",
       "<style scoped>\n",
       "    .dataframe tbody tr th:only-of-type {\n",
       "        vertical-align: middle;\n",
       "    }\n",
       "\n",
       "    .dataframe tbody tr th {\n",
       "        vertical-align: top;\n",
       "    }\n",
       "\n",
       "    .dataframe thead th {\n",
       "        text-align: right;\n",
       "    }\n",
       "</style>\n",
       "<table border=\"1\" class=\"dataframe\">\n",
       "  <thead>\n",
       "    <tr style=\"text-align: right;\">\n",
       "      <th></th>\n",
       "      <th>Qualification</th>\n",
       "      <th>Rating</th>\n",
       "      <th>Place</th>\n",
       "      <th>Profile</th>\n",
       "      <th>Fees</th>\n",
       "      <th>Exper_year</th>\n",
       "      <th>Number_Of_Feedback</th>\n",
       "    </tr>\n",
       "  </thead>\n",
       "  <tbody>\n",
       "    <tr>\n",
       "      <td>0</td>\n",
       "      <td>bhms  md   homeopathy</td>\n",
       "      <td>100</td>\n",
       "      <td>kakkanad  ernakulam</td>\n",
       "      <td>Homeopath</td>\n",
       "      <td>100</td>\n",
       "      <td>24</td>\n",
       "      <td>16</td>\n",
       "    </tr>\n",
       "    <tr>\n",
       "      <td>1</td>\n",
       "      <td>bams  md   ayurveda medicine</td>\n",
       "      <td>98</td>\n",
       "      <td>whitefield  bangalore</td>\n",
       "      <td>Ayurveda</td>\n",
       "      <td>350</td>\n",
       "      <td>12</td>\n",
       "      <td>76</td>\n",
       "    </tr>\n",
       "    <tr>\n",
       "      <td>2</td>\n",
       "      <td>mbbs  ms   otorhinolaryngology</td>\n",
       "      <td>0</td>\n",
       "      <td>mathikere   bel  bangalore</td>\n",
       "      <td>ENT Specialist</td>\n",
       "      <td>300</td>\n",
       "      <td>9</td>\n",
       "      <td>0</td>\n",
       "    </tr>\n",
       "    <tr>\n",
       "      <td>3</td>\n",
       "      <td>bsc   zoology  bams</td>\n",
       "      <td>0</td>\n",
       "      <td>bannerghatta road  bangalore</td>\n",
       "      <td>Ayurveda</td>\n",
       "      <td>250</td>\n",
       "      <td>12</td>\n",
       "      <td>0</td>\n",
       "    </tr>\n",
       "    <tr>\n",
       "      <td>4</td>\n",
       "      <td>bams</td>\n",
       "      <td>100</td>\n",
       "      <td>keelkattalai  chennai</td>\n",
       "      <td>Ayurveda</td>\n",
       "      <td>250</td>\n",
       "      <td>20</td>\n",
       "      <td>4</td>\n",
       "    </tr>\n",
       "  </tbody>\n",
       "</table>\n",
       "</div>"
      ],
      "text/plain": [
       "                    Qualification  Rating                         Place  \\\n",
       "0           bhms  md   homeopathy     100           kakkanad  ernakulam   \n",
       "1    bams  md   ayurveda medicine      98         whitefield  bangalore   \n",
       "2  mbbs  ms   otorhinolaryngology       0    mathikere   bel  bangalore   \n",
       "3             bsc   zoology  bams       0  bannerghatta road  bangalore   \n",
       "4                            bams     100         keelkattalai  chennai   \n",
       "\n",
       "          Profile  Fees  Exper_year  Number_Of_Feedback  \n",
       "0       Homeopath   100          24                  16  \n",
       "1        Ayurveda   350          12                  76  \n",
       "2  ENT Specialist   300           9                   0  \n",
       "3        Ayurveda   250          12                   0  \n",
       "4        Ayurveda   250          20                   4  "
      ]
     },
     "execution_count": 32,
     "metadata": {},
     "output_type": "execute_result"
    }
   ],
   "source": [
    "data.head()"
   ]
  },
  {
   "cell_type": "code",
   "execution_count": 33,
   "metadata": {},
   "outputs": [
    {
     "data": {
      "text/plain": [
       "Dentist             1397\n",
       "General Medicine    1173\n",
       "Dermatologists      1034\n",
       "Homeopath            843\n",
       "Ayurveda             786\n",
       "ENT Specialist       728\n",
       "Name: Profile, dtype: int64"
      ]
     },
     "execution_count": 33,
     "metadata": {},
     "output_type": "execute_result"
    }
   ],
   "source": [
    "data.Profile.value_counts()"
   ]
  },
  {
   "cell_type": "code",
   "execution_count": 34,
   "metadata": {},
   "outputs": [
    {
     "data": {
      "text/html": [
       "<div>\n",
       "<style scoped>\n",
       "    .dataframe tbody tr th:only-of-type {\n",
       "        vertical-align: middle;\n",
       "    }\n",
       "\n",
       "    .dataframe tbody tr th {\n",
       "        vertical-align: top;\n",
       "    }\n",
       "\n",
       "    .dataframe thead th {\n",
       "        text-align: right;\n",
       "    }\n",
       "</style>\n",
       "<table border=\"1\" class=\"dataframe\">\n",
       "  <thead>\n",
       "    <tr style=\"text-align: right;\">\n",
       "      <th></th>\n",
       "      <th>Profile_Dentist</th>\n",
       "      <th>Profile_Dermatologists</th>\n",
       "      <th>Profile_ENT Specialist</th>\n",
       "      <th>Profile_General Medicine</th>\n",
       "      <th>Profile_Homeopath</th>\n",
       "    </tr>\n",
       "  </thead>\n",
       "  <tbody>\n",
       "    <tr>\n",
       "      <td>0</td>\n",
       "      <td>0</td>\n",
       "      <td>0</td>\n",
       "      <td>0</td>\n",
       "      <td>0</td>\n",
       "      <td>1</td>\n",
       "    </tr>\n",
       "    <tr>\n",
       "      <td>1</td>\n",
       "      <td>0</td>\n",
       "      <td>0</td>\n",
       "      <td>0</td>\n",
       "      <td>0</td>\n",
       "      <td>0</td>\n",
       "    </tr>\n",
       "    <tr>\n",
       "      <td>2</td>\n",
       "      <td>0</td>\n",
       "      <td>0</td>\n",
       "      <td>1</td>\n",
       "      <td>0</td>\n",
       "      <td>0</td>\n",
       "    </tr>\n",
       "    <tr>\n",
       "      <td>3</td>\n",
       "      <td>0</td>\n",
       "      <td>0</td>\n",
       "      <td>0</td>\n",
       "      <td>0</td>\n",
       "      <td>0</td>\n",
       "    </tr>\n",
       "    <tr>\n",
       "      <td>4</td>\n",
       "      <td>0</td>\n",
       "      <td>0</td>\n",
       "      <td>0</td>\n",
       "      <td>0</td>\n",
       "      <td>0</td>\n",
       "    </tr>\n",
       "  </tbody>\n",
       "</table>\n",
       "</div>"
      ],
      "text/plain": [
       "   Profile_Dentist  Profile_Dermatologists  Profile_ENT Specialist  \\\n",
       "0                0                       0                       0   \n",
       "1                0                       0                       0   \n",
       "2                0                       0                       1   \n",
       "3                0                       0                       0   \n",
       "4                0                       0                       0   \n",
       "\n",
       "   Profile_General Medicine  Profile_Homeopath  \n",
       "0                         0                  1  \n",
       "1                         0                  0  \n",
       "2                         0                  0  \n",
       "3                         0                  0  \n",
       "4                         0                  0  "
      ]
     },
     "execution_count": 34,
     "metadata": {},
     "output_type": "execute_result"
    }
   ],
   "source": [
    "Profile = data[[\"Profile\"]]\n",
    "Profile = pd.get_dummies(Profile, drop_first=True)\n",
    "Profile.head()"
   ]
  },
  {
   "cell_type": "code",
   "execution_count": 35,
   "metadata": {},
   "outputs": [],
   "source": [
    "#profile show the Qualification almost so, I am going to drop the Qulification feature.\n",
    "data.drop(\"Qualification\", axis=1, inplace=True)"
   ]
  },
  {
   "cell_type": "code",
   "execution_count": 36,
   "metadata": {},
   "outputs": [
    {
     "data": {
      "text/html": [
       "<div>\n",
       "<style scoped>\n",
       "    .dataframe tbody tr th:only-of-type {\n",
       "        vertical-align: middle;\n",
       "    }\n",
       "\n",
       "    .dataframe tbody tr th {\n",
       "        vertical-align: top;\n",
       "    }\n",
       "\n",
       "    .dataframe thead th {\n",
       "        text-align: right;\n",
       "    }\n",
       "</style>\n",
       "<table border=\"1\" class=\"dataframe\">\n",
       "  <thead>\n",
       "    <tr style=\"text-align: right;\">\n",
       "      <th></th>\n",
       "      <th>Rating</th>\n",
       "      <th>Place</th>\n",
       "      <th>Profile</th>\n",
       "      <th>Fees</th>\n",
       "      <th>Exper_year</th>\n",
       "      <th>Number_Of_Feedback</th>\n",
       "    </tr>\n",
       "  </thead>\n",
       "  <tbody>\n",
       "    <tr>\n",
       "      <td>0</td>\n",
       "      <td>100</td>\n",
       "      <td>kakkanad  ernakulam</td>\n",
       "      <td>Homeopath</td>\n",
       "      <td>100</td>\n",
       "      <td>24</td>\n",
       "      <td>16</td>\n",
       "    </tr>\n",
       "    <tr>\n",
       "      <td>1</td>\n",
       "      <td>98</td>\n",
       "      <td>whitefield  bangalore</td>\n",
       "      <td>Ayurveda</td>\n",
       "      <td>350</td>\n",
       "      <td>12</td>\n",
       "      <td>76</td>\n",
       "    </tr>\n",
       "    <tr>\n",
       "      <td>2</td>\n",
       "      <td>0</td>\n",
       "      <td>mathikere   bel  bangalore</td>\n",
       "      <td>ENT Specialist</td>\n",
       "      <td>300</td>\n",
       "      <td>9</td>\n",
       "      <td>0</td>\n",
       "    </tr>\n",
       "    <tr>\n",
       "      <td>3</td>\n",
       "      <td>0</td>\n",
       "      <td>bannerghatta road  bangalore</td>\n",
       "      <td>Ayurveda</td>\n",
       "      <td>250</td>\n",
       "      <td>12</td>\n",
       "      <td>0</td>\n",
       "    </tr>\n",
       "    <tr>\n",
       "      <td>4</td>\n",
       "      <td>100</td>\n",
       "      <td>keelkattalai  chennai</td>\n",
       "      <td>Ayurveda</td>\n",
       "      <td>250</td>\n",
       "      <td>20</td>\n",
       "      <td>4</td>\n",
       "    </tr>\n",
       "  </tbody>\n",
       "</table>\n",
       "</div>"
      ],
      "text/plain": [
       "   Rating                         Place         Profile  Fees  Exper_year  \\\n",
       "0     100           kakkanad  ernakulam       Homeopath   100          24   \n",
       "1      98         whitefield  bangalore        Ayurveda   350          12   \n",
       "2       0    mathikere   bel  bangalore  ENT Specialist   300           9   \n",
       "3       0  bannerghatta road  bangalore        Ayurveda   250          12   \n",
       "4     100         keelkattalai  chennai        Ayurveda   250          20   \n",
       "\n",
       "   Number_Of_Feedback  \n",
       "0                  16  \n",
       "1                  76  \n",
       "2                   0  \n",
       "3                   0  \n",
       "4                   4  "
      ]
     },
     "execution_count": 36,
     "metadata": {},
     "output_type": "execute_result"
    }
   ],
   "source": [
    "data.head()"
   ]
  },
  {
   "cell_type": "code",
   "execution_count": 37,
   "metadata": {},
   "outputs": [
    {
     "data": {
      "text/plain": [
       "hsr layout  bangalore              75\n",
       "andheri west  mumbai               70\n",
       "dwarka  delhi                      67\n",
       "banjara hills  hyderabad           64\n",
       "mulund west  mumbai                54\n",
       "                                   ..\n",
       "cumballa hill  mumbai               1\n",
       "nehru place  delhi                  1\n",
       "kingsway camp  delhi                1\n",
       "koramangala 8 block  bangalore      1\n",
       "kallambalam  thiruvananthapuram     1\n",
       "Name: Place, Length: 878, dtype: int64"
      ]
     },
     "execution_count": 37,
     "metadata": {},
     "output_type": "execute_result"
    }
   ],
   "source": [
    "data.Place.value_counts()"
   ]
  },
  {
   "cell_type": "code",
   "execution_count": 42,
   "metadata": {},
   "outputs": [],
   "source": [
    "def place(text):\n",
    "    text = text.split()\n",
    "    text = text[-1]\n",
    "    return text\n",
    "\n",
    "data[\"Place\"]=data[\"Place\"].apply(place)"
   ]
  },
  {
   "cell_type": "code",
   "execution_count": 43,
   "metadata": {},
   "outputs": [
    {
     "data": {
      "text/html": [
       "<div>\n",
       "<style scoped>\n",
       "    .dataframe tbody tr th:only-of-type {\n",
       "        vertical-align: middle;\n",
       "    }\n",
       "\n",
       "    .dataframe tbody tr th {\n",
       "        vertical-align: top;\n",
       "    }\n",
       "\n",
       "    .dataframe thead th {\n",
       "        text-align: right;\n",
       "    }\n",
       "</style>\n",
       "<table border=\"1\" class=\"dataframe\">\n",
       "  <thead>\n",
       "    <tr style=\"text-align: right;\">\n",
       "      <th></th>\n",
       "      <th>Rating</th>\n",
       "      <th>Place</th>\n",
       "      <th>Profile</th>\n",
       "      <th>Fees</th>\n",
       "      <th>Exper_year</th>\n",
       "      <th>Number_Of_Feedback</th>\n",
       "    </tr>\n",
       "  </thead>\n",
       "  <tbody>\n",
       "    <tr>\n",
       "      <td>0</td>\n",
       "      <td>100</td>\n",
       "      <td>ernakulam</td>\n",
       "      <td>Homeopath</td>\n",
       "      <td>100</td>\n",
       "      <td>24</td>\n",
       "      <td>16</td>\n",
       "    </tr>\n",
       "    <tr>\n",
       "      <td>1</td>\n",
       "      <td>98</td>\n",
       "      <td>bangalore</td>\n",
       "      <td>Ayurveda</td>\n",
       "      <td>350</td>\n",
       "      <td>12</td>\n",
       "      <td>76</td>\n",
       "    </tr>\n",
       "    <tr>\n",
       "      <td>2</td>\n",
       "      <td>0</td>\n",
       "      <td>bangalore</td>\n",
       "      <td>ENT Specialist</td>\n",
       "      <td>300</td>\n",
       "      <td>9</td>\n",
       "      <td>0</td>\n",
       "    </tr>\n",
       "    <tr>\n",
       "      <td>3</td>\n",
       "      <td>0</td>\n",
       "      <td>bangalore</td>\n",
       "      <td>Ayurveda</td>\n",
       "      <td>250</td>\n",
       "      <td>12</td>\n",
       "      <td>0</td>\n",
       "    </tr>\n",
       "    <tr>\n",
       "      <td>4</td>\n",
       "      <td>100</td>\n",
       "      <td>chennai</td>\n",
       "      <td>Ayurveda</td>\n",
       "      <td>250</td>\n",
       "      <td>20</td>\n",
       "      <td>4</td>\n",
       "    </tr>\n",
       "  </tbody>\n",
       "</table>\n",
       "</div>"
      ],
      "text/plain": [
       "   Rating      Place         Profile  Fees  Exper_year  Number_Of_Feedback\n",
       "0     100  ernakulam       Homeopath   100          24                  16\n",
       "1      98  bangalore        Ayurveda   350          12                  76\n",
       "2       0  bangalore  ENT Specialist   300           9                   0\n",
       "3       0  bangalore        Ayurveda   250          12                   0\n",
       "4     100    chennai        Ayurveda   250          20                   4"
      ]
     },
     "execution_count": 43,
     "metadata": {},
     "output_type": "execute_result"
    }
   ],
   "source": [
    "data.head()"
   ]
  },
  {
   "cell_type": "code",
   "execution_count": 44,
   "metadata": {},
   "outputs": [
    {
     "data": {
      "text/plain": [
       "bangalore             1258\n",
       "mumbai                1219\n",
       "delhi                 1185\n",
       "hyderabad              951\n",
       "chennai                855\n",
       "coimbatore             228\n",
       "ernakulam              153\n",
       "thiruvananthapuram      86\n",
       "none                    25\n",
       "e                        1\n",
       "Name: Place, dtype: int64"
      ]
     },
     "execution_count": 44,
     "metadata": {},
     "output_type": "execute_result"
    }
   ],
   "source": [
    "data.Place.value_counts()"
   ]
  },
  {
   "cell_type": "code",
   "execution_count": 40,
   "metadata": {},
   "outputs": [],
   "source": []
  },
  {
   "cell_type": "code",
   "execution_count": 107,
   "metadata": {},
   "outputs": [],
   "source": [
    "data[\"Place\"] = data[\"Place\"].replace({\"none\":\"NaN\"})"
   ]
  },
  {
   "cell_type": "code",
   "execution_count": 45,
   "metadata": {},
   "outputs": [
    {
     "data": {
      "text/html": [
       "<div>\n",
       "<style scoped>\n",
       "    .dataframe tbody tr th:only-of-type {\n",
       "        vertical-align: middle;\n",
       "    }\n",
       "\n",
       "    .dataframe tbody tr th {\n",
       "        vertical-align: top;\n",
       "    }\n",
       "\n",
       "    .dataframe thead th {\n",
       "        text-align: right;\n",
       "    }\n",
       "</style>\n",
       "<table border=\"1\" class=\"dataframe\">\n",
       "  <thead>\n",
       "    <tr style=\"text-align: right;\">\n",
       "      <th></th>\n",
       "      <th>Place_bangalore</th>\n",
       "      <th>Place_chennai</th>\n",
       "      <th>Place_coimbatore</th>\n",
       "      <th>Place_delhi</th>\n",
       "      <th>Place_e</th>\n",
       "      <th>Place_ernakulam</th>\n",
       "      <th>Place_hyderabad</th>\n",
       "      <th>Place_mumbai</th>\n",
       "      <th>Place_none</th>\n",
       "      <th>Place_thiruvananthapuram</th>\n",
       "    </tr>\n",
       "  </thead>\n",
       "  <tbody>\n",
       "    <tr>\n",
       "      <td>0</td>\n",
       "      <td>0</td>\n",
       "      <td>0</td>\n",
       "      <td>0</td>\n",
       "      <td>0</td>\n",
       "      <td>0</td>\n",
       "      <td>1</td>\n",
       "      <td>0</td>\n",
       "      <td>0</td>\n",
       "      <td>0</td>\n",
       "      <td>0</td>\n",
       "    </tr>\n",
       "    <tr>\n",
       "      <td>1</td>\n",
       "      <td>1</td>\n",
       "      <td>0</td>\n",
       "      <td>0</td>\n",
       "      <td>0</td>\n",
       "      <td>0</td>\n",
       "      <td>0</td>\n",
       "      <td>0</td>\n",
       "      <td>0</td>\n",
       "      <td>0</td>\n",
       "      <td>0</td>\n",
       "    </tr>\n",
       "    <tr>\n",
       "      <td>2</td>\n",
       "      <td>1</td>\n",
       "      <td>0</td>\n",
       "      <td>0</td>\n",
       "      <td>0</td>\n",
       "      <td>0</td>\n",
       "      <td>0</td>\n",
       "      <td>0</td>\n",
       "      <td>0</td>\n",
       "      <td>0</td>\n",
       "      <td>0</td>\n",
       "    </tr>\n",
       "    <tr>\n",
       "      <td>3</td>\n",
       "      <td>1</td>\n",
       "      <td>0</td>\n",
       "      <td>0</td>\n",
       "      <td>0</td>\n",
       "      <td>0</td>\n",
       "      <td>0</td>\n",
       "      <td>0</td>\n",
       "      <td>0</td>\n",
       "      <td>0</td>\n",
       "      <td>0</td>\n",
       "    </tr>\n",
       "    <tr>\n",
       "      <td>4</td>\n",
       "      <td>0</td>\n",
       "      <td>1</td>\n",
       "      <td>0</td>\n",
       "      <td>0</td>\n",
       "      <td>0</td>\n",
       "      <td>0</td>\n",
       "      <td>0</td>\n",
       "      <td>0</td>\n",
       "      <td>0</td>\n",
       "      <td>0</td>\n",
       "    </tr>\n",
       "  </tbody>\n",
       "</table>\n",
       "</div>"
      ],
      "text/plain": [
       "   Place_bangalore  Place_chennai  Place_coimbatore  Place_delhi  Place_e  \\\n",
       "0                0              0                 0            0        0   \n",
       "1                1              0                 0            0        0   \n",
       "2                1              0                 0            0        0   \n",
       "3                1              0                 0            0        0   \n",
       "4                0              1                 0            0        0   \n",
       "\n",
       "   Place_ernakulam  Place_hyderabad  Place_mumbai  Place_none  \\\n",
       "0                1                0             0           0   \n",
       "1                0                0             0           0   \n",
       "2                0                0             0           0   \n",
       "3                0                0             0           0   \n",
       "4                0                0             0           0   \n",
       "\n",
       "   Place_thiruvananthapuram  \n",
       "0                         0  \n",
       "1                         0  \n",
       "2                         0  \n",
       "3                         0  \n",
       "4                         0  "
      ]
     },
     "execution_count": 45,
     "metadata": {},
     "output_type": "execute_result"
    }
   ],
   "source": [
    "Place = data[[\"Place\"]]\n",
    "Place = pd.get_dummies(Place)\n",
    "Place.head()"
   ]
  },
  {
   "cell_type": "code",
   "execution_count": 46,
   "metadata": {},
   "outputs": [],
   "source": [
    "Place.drop([\"Place_none\",\"Place_e\"], axis=1, inplace=True)      # none have 25 null value that why i am droping and e is only one that why."
   ]
  },
  {
   "cell_type": "code",
   "execution_count": 47,
   "metadata": {},
   "outputs": [
    {
     "data": {
      "text/html": [
       "<div>\n",
       "<style scoped>\n",
       "    .dataframe tbody tr th:only-of-type {\n",
       "        vertical-align: middle;\n",
       "    }\n",
       "\n",
       "    .dataframe tbody tr th {\n",
       "        vertical-align: top;\n",
       "    }\n",
       "\n",
       "    .dataframe thead th {\n",
       "        text-align: right;\n",
       "    }\n",
       "</style>\n",
       "<table border=\"1\" class=\"dataframe\">\n",
       "  <thead>\n",
       "    <tr style=\"text-align: right;\">\n",
       "      <th></th>\n",
       "      <th>Place_bangalore</th>\n",
       "      <th>Place_chennai</th>\n",
       "      <th>Place_coimbatore</th>\n",
       "      <th>Place_delhi</th>\n",
       "      <th>Place_ernakulam</th>\n",
       "      <th>Place_hyderabad</th>\n",
       "      <th>Place_mumbai</th>\n",
       "      <th>Place_thiruvananthapuram</th>\n",
       "    </tr>\n",
       "  </thead>\n",
       "  <tbody>\n",
       "    <tr>\n",
       "      <td>0</td>\n",
       "      <td>0</td>\n",
       "      <td>0</td>\n",
       "      <td>0</td>\n",
       "      <td>0</td>\n",
       "      <td>1</td>\n",
       "      <td>0</td>\n",
       "      <td>0</td>\n",
       "      <td>0</td>\n",
       "    </tr>\n",
       "    <tr>\n",
       "      <td>1</td>\n",
       "      <td>1</td>\n",
       "      <td>0</td>\n",
       "      <td>0</td>\n",
       "      <td>0</td>\n",
       "      <td>0</td>\n",
       "      <td>0</td>\n",
       "      <td>0</td>\n",
       "      <td>0</td>\n",
       "    </tr>\n",
       "    <tr>\n",
       "      <td>2</td>\n",
       "      <td>1</td>\n",
       "      <td>0</td>\n",
       "      <td>0</td>\n",
       "      <td>0</td>\n",
       "      <td>0</td>\n",
       "      <td>0</td>\n",
       "      <td>0</td>\n",
       "      <td>0</td>\n",
       "    </tr>\n",
       "    <tr>\n",
       "      <td>3</td>\n",
       "      <td>1</td>\n",
       "      <td>0</td>\n",
       "      <td>0</td>\n",
       "      <td>0</td>\n",
       "      <td>0</td>\n",
       "      <td>0</td>\n",
       "      <td>0</td>\n",
       "      <td>0</td>\n",
       "    </tr>\n",
       "    <tr>\n",
       "      <td>4</td>\n",
       "      <td>0</td>\n",
       "      <td>1</td>\n",
       "      <td>0</td>\n",
       "      <td>0</td>\n",
       "      <td>0</td>\n",
       "      <td>0</td>\n",
       "      <td>0</td>\n",
       "      <td>0</td>\n",
       "    </tr>\n",
       "  </tbody>\n",
       "</table>\n",
       "</div>"
      ],
      "text/plain": [
       "   Place_bangalore  Place_chennai  Place_coimbatore  Place_delhi  \\\n",
       "0                0              0                 0            0   \n",
       "1                1              0                 0            0   \n",
       "2                1              0                 0            0   \n",
       "3                1              0                 0            0   \n",
       "4                0              1                 0            0   \n",
       "\n",
       "   Place_ernakulam  Place_hyderabad  Place_mumbai  Place_thiruvananthapuram  \n",
       "0                1                0             0                         0  \n",
       "1                0                0             0                         0  \n",
       "2                0                0             0                         0  \n",
       "3                0                0             0                         0  \n",
       "4                0                0             0                         0  "
      ]
     },
     "execution_count": 47,
     "metadata": {},
     "output_type": "execute_result"
    }
   ],
   "source": [
    "Place.head()"
   ]
  },
  {
   "cell_type": "code",
   "execution_count": 48,
   "metadata": {},
   "outputs": [
    {
     "data": {
      "text/plain": [
       "<matplotlib.axes._subplots.AxesSubplot at 0x28adfcd3d88>"
      ]
     },
     "execution_count": 48,
     "metadata": {},
     "output_type": "execute_result"
    },
    {
     "data": {
      "image/png": "[encoded data removed]",
      "text/plain": [
       "<Figure size 432x288 with 1 Axes>"
      ]
     },
     "metadata": {},
     "output_type": "display_data"
    }
   ],
   "source": [
    "sns.distplot(data['Exper_year'],rug=True)"
   ]
  },
  {
   "cell_type": "code",
   "execution_count": 49,
   "metadata": {},
   "outputs": [],
   "source": [
    "data = pd.concat([data, Profile, Place], axis=1)"
   ]
  },
  {
   "cell_type": "code",
   "execution_count": 50,
   "metadata": {},
   "outputs": [
    {
     "data": {
      "text/html": [
       "<div>\n",
       "<style scoped>\n",
       "    .dataframe tbody tr th:only-of-type {\n",
       "        vertical-align: middle;\n",
       "    }\n",
       "\n",
       "    .dataframe tbody tr th {\n",
       "        vertical-align: top;\n",
       "    }\n",
       "\n",
       "    .dataframe thead th {\n",
       "        text-align: right;\n",
       "    }\n",
       "</style>\n",
       "<table border=\"1\" class=\"dataframe\">\n",
       "  <thead>\n",
       "    <tr style=\"text-align: right;\">\n",
       "      <th></th>\n",
       "      <th>Rating</th>\n",
       "      <th>Place</th>\n",
       "      <th>Profile</th>\n",
       "      <th>Fees</th>\n",
       "      <th>Exper_year</th>\n",
       "      <th>Number_Of_Feedback</th>\n",
       "      <th>Profile_Dentist</th>\n",
       "      <th>Profile_Dermatologists</th>\n",
       "      <th>Profile_ENT Specialist</th>\n",
       "      <th>Profile_General Medicine</th>\n",
       "      <th>Profile_Homeopath</th>\n",
       "      <th>Place_bangalore</th>\n",
       "      <th>Place_chennai</th>\n",
       "      <th>Place_coimbatore</th>\n",
       "      <th>Place_delhi</th>\n",
       "      <th>Place_ernakulam</th>\n",
       "      <th>Place_hyderabad</th>\n",
       "      <th>Place_mumbai</th>\n",
       "      <th>Place_thiruvananthapuram</th>\n",
       "    </tr>\n",
       "  </thead>\n",
       "  <tbody>\n",
       "    <tr>\n",
       "      <td>0</td>\n",
       "      <td>100</td>\n",
       "      <td>ernakulam</td>\n",
       "      <td>Homeopath</td>\n",
       "      <td>100</td>\n",
       "      <td>24</td>\n",
       "      <td>16</td>\n",
       "      <td>0</td>\n",
       "      <td>0</td>\n",
       "      <td>0</td>\n",
       "      <td>0</td>\n",
       "      <td>1</td>\n",
       "      <td>0</td>\n",
       "      <td>0</td>\n",
       "      <td>0</td>\n",
       "      <td>0</td>\n",
       "      <td>1</td>\n",
       "      <td>0</td>\n",
       "      <td>0</td>\n",
       "      <td>0</td>\n",
       "    </tr>\n",
       "    <tr>\n",
       "      <td>1</td>\n",
       "      <td>98</td>\n",
       "      <td>bangalore</td>\n",
       "      <td>Ayurveda</td>\n",
       "      <td>350</td>\n",
       "      <td>12</td>\n",
       "      <td>76</td>\n",
       "      <td>0</td>\n",
       "      <td>0</td>\n",
       "      <td>0</td>\n",
       "      <td>0</td>\n",
       "      <td>0</td>\n",
       "      <td>1</td>\n",
       "      <td>0</td>\n",
       "      <td>0</td>\n",
       "      <td>0</td>\n",
       "      <td>0</td>\n",
       "      <td>0</td>\n",
       "      <td>0</td>\n",
       "      <td>0</td>\n",
       "    </tr>\n",
       "    <tr>\n",
       "      <td>2</td>\n",
       "      <td>0</td>\n",
       "      <td>bangalore</td>\n",
       "      <td>ENT Specialist</td>\n",
       "      <td>300</td>\n",
       "      <td>9</td>\n",
       "      <td>0</td>\n",
       "      <td>0</td>\n",
       "      <td>0</td>\n",
       "      <td>1</td>\n",
       "      <td>0</td>\n",
       "      <td>0</td>\n",
       "      <td>1</td>\n",
       "      <td>0</td>\n",
       "      <td>0</td>\n",
       "      <td>0</td>\n",
       "      <td>0</td>\n",
       "      <td>0</td>\n",
       "      <td>0</td>\n",
       "      <td>0</td>\n",
       "    </tr>\n",
       "    <tr>\n",
       "      <td>3</td>\n",
       "      <td>0</td>\n",
       "      <td>bangalore</td>\n",
       "      <td>Ayurveda</td>\n",
       "      <td>250</td>\n",
       "      <td>12</td>\n",
       "      <td>0</td>\n",
       "      <td>0</td>\n",
       "      <td>0</td>\n",
       "      <td>0</td>\n",
       "      <td>0</td>\n",
       "      <td>0</td>\n",
       "      <td>1</td>\n",
       "      <td>0</td>\n",
       "      <td>0</td>\n",
       "      <td>0</td>\n",
       "      <td>0</td>\n",
       "      <td>0</td>\n",
       "      <td>0</td>\n",
       "      <td>0</td>\n",
       "    </tr>\n",
       "    <tr>\n",
       "      <td>4</td>\n",
       "      <td>100</td>\n",
       "      <td>chennai</td>\n",
       "      <td>Ayurveda</td>\n",
       "      <td>250</td>\n",
       "      <td>20</td>\n",
       "      <td>4</td>\n",
       "      <td>0</td>\n",
       "      <td>0</td>\n",
       "      <td>0</td>\n",
       "      <td>0</td>\n",
       "      <td>0</td>\n",
       "      <td>0</td>\n",
       "      <td>1</td>\n",
       "      <td>0</td>\n",
       "      <td>0</td>\n",
       "      <td>0</td>\n",
       "      <td>0</td>\n",
       "      <td>0</td>\n",
       "      <td>0</td>\n",
       "    </tr>\n",
       "  </tbody>\n",
       "</table>\n",
       "</div>"
      ],
      "text/plain": [
       "   Rating      Place         Profile  Fees  Exper_year  Number_Of_Feedback  \\\n",
       "0     100  ernakulam       Homeopath   100          24                  16   \n",
       "1      98  bangalore        Ayurveda   350          12                  76   \n",
       "2       0  bangalore  ENT Specialist   300           9                   0   \n",
       "3       0  bangalore        Ayurveda   250          12                   0   \n",
       "4     100    chennai        Ayurveda   250          20                   4   \n",
       "\n",
       "   Profile_Dentist  Profile_Dermatologists  Profile_ENT Specialist  \\\n",
       "0                0                       0                       0   \n",
       "1                0                       0                       0   \n",
       "2                0                       0                       1   \n",
       "3                0                       0                       0   \n",
       "4                0                       0                       0   \n",
       "\n",
       "   Profile_General Medicine  Profile_Homeopath  Place_bangalore  \\\n",
       "0                         0                  1                0   \n",
       "1                         0                  0                1   \n",
       "2                         0                  0                1   \n",
       "3                         0                  0                1   \n",
       "4                         0                  0                0   \n",
       "\n",
       "   Place_chennai  Place_coimbatore  Place_delhi  Place_ernakulam  \\\n",
       "0              0                 0            0                1   \n",
       "1              0                 0            0                0   \n",
       "2              0                 0            0                0   \n",
       "3              0                 0            0                0   \n",
       "4              1                 0            0                0   \n",
       "\n",
       "   Place_hyderabad  Place_mumbai  Place_thiruvananthapuram  \n",
       "0                0             0                         0  \n",
       "1                0             0                         0  \n",
       "2                0             0                         0  \n",
       "3                0             0                         0  \n",
       "4                0             0                         0  "
      ]
     },
     "execution_count": 50,
     "metadata": {},
     "output_type": "execute_result"
    }
   ],
   "source": [
    "data.head()"
   ]
  },
  {
   "cell_type": "code",
   "execution_count": 51,
   "metadata": {},
   "outputs": [],
   "source": [
    "data.drop([\"Place\", \"Profile\"], axis=1, inplace=True)"
   ]
  },
  {
   "cell_type": "code",
   "execution_count": 52,
   "metadata": {},
   "outputs": [
    {
     "data": {
      "text/html": [
       "<div>\n",
       "<style scoped>\n",
       "    .dataframe tbody tr th:only-of-type {\n",
       "        vertical-align: middle;\n",
       "    }\n",
       "\n",
       "    .dataframe tbody tr th {\n",
       "        vertical-align: top;\n",
       "    }\n",
       "\n",
       "    .dataframe thead th {\n",
       "        text-align: right;\n",
       "    }\n",
       "</style>\n",
       "<table border=\"1\" class=\"dataframe\">\n",
       "  <thead>\n",
       "    <tr style=\"text-align: right;\">\n",
       "      <th></th>\n",
       "      <th>Rating</th>\n",
       "      <th>Fees</th>\n",
       "      <th>Exper_year</th>\n",
       "      <th>Number_Of_Feedback</th>\n",
       "      <th>Profile_Dentist</th>\n",
       "      <th>Profile_Dermatologists</th>\n",
       "      <th>Profile_ENT Specialist</th>\n",
       "      <th>Profile_General Medicine</th>\n",
       "      <th>Profile_Homeopath</th>\n",
       "      <th>Place_bangalore</th>\n",
       "      <th>Place_chennai</th>\n",
       "      <th>Place_coimbatore</th>\n",
       "      <th>Place_delhi</th>\n",
       "      <th>Place_ernakulam</th>\n",
       "      <th>Place_hyderabad</th>\n",
       "      <th>Place_mumbai</th>\n",
       "      <th>Place_thiruvananthapuram</th>\n",
       "    </tr>\n",
       "  </thead>\n",
       "  <tbody>\n",
       "    <tr>\n",
       "      <td>0</td>\n",
       "      <td>100</td>\n",
       "      <td>100</td>\n",
       "      <td>24</td>\n",
       "      <td>16</td>\n",
       "      <td>0</td>\n",
       "      <td>0</td>\n",
       "      <td>0</td>\n",
       "      <td>0</td>\n",
       "      <td>1</td>\n",
       "      <td>0</td>\n",
       "      <td>0</td>\n",
       "      <td>0</td>\n",
       "      <td>0</td>\n",
       "      <td>1</td>\n",
       "      <td>0</td>\n",
       "      <td>0</td>\n",
       "      <td>0</td>\n",
       "    </tr>\n",
       "    <tr>\n",
       "      <td>1</td>\n",
       "      <td>98</td>\n",
       "      <td>350</td>\n",
       "      <td>12</td>\n",
       "      <td>76</td>\n",
       "      <td>0</td>\n",
       "      <td>0</td>\n",
       "      <td>0</td>\n",
       "      <td>0</td>\n",
       "      <td>0</td>\n",
       "      <td>1</td>\n",
       "      <td>0</td>\n",
       "      <td>0</td>\n",
       "      <td>0</td>\n",
       "      <td>0</td>\n",
       "      <td>0</td>\n",
       "      <td>0</td>\n",
       "      <td>0</td>\n",
       "    </tr>\n",
       "    <tr>\n",
       "      <td>2</td>\n",
       "      <td>0</td>\n",
       "      <td>300</td>\n",
       "      <td>9</td>\n",
       "      <td>0</td>\n",
       "      <td>0</td>\n",
       "      <td>0</td>\n",
       "      <td>1</td>\n",
       "      <td>0</td>\n",
       "      <td>0</td>\n",
       "      <td>1</td>\n",
       "      <td>0</td>\n",
       "      <td>0</td>\n",
       "      <td>0</td>\n",
       "      <td>0</td>\n",
       "      <td>0</td>\n",
       "      <td>0</td>\n",
       "      <td>0</td>\n",
       "    </tr>\n",
       "    <tr>\n",
       "      <td>3</td>\n",
       "      <td>0</td>\n",
       "      <td>250</td>\n",
       "      <td>12</td>\n",
       "      <td>0</td>\n",
       "      <td>0</td>\n",
       "      <td>0</td>\n",
       "      <td>0</td>\n",
       "      <td>0</td>\n",
       "      <td>0</td>\n",
       "      <td>1</td>\n",
       "      <td>0</td>\n",
       "      <td>0</td>\n",
       "      <td>0</td>\n",
       "      <td>0</td>\n",
       "      <td>0</td>\n",
       "      <td>0</td>\n",
       "      <td>0</td>\n",
       "    </tr>\n",
       "    <tr>\n",
       "      <td>4</td>\n",
       "      <td>100</td>\n",
       "      <td>250</td>\n",
       "      <td>20</td>\n",
       "      <td>4</td>\n",
       "      <td>0</td>\n",
       "      <td>0</td>\n",
       "      <td>0</td>\n",
       "      <td>0</td>\n",
       "      <td>0</td>\n",
       "      <td>0</td>\n",
       "      <td>1</td>\n",
       "      <td>0</td>\n",
       "      <td>0</td>\n",
       "      <td>0</td>\n",
       "      <td>0</td>\n",
       "      <td>0</td>\n",
       "      <td>0</td>\n",
       "    </tr>\n",
       "  </tbody>\n",
       "</table>\n",
       "</div>"
      ],
      "text/plain": [
       "   Rating  Fees  Exper_year  Number_Of_Feedback  Profile_Dentist  \\\n",
       "0     100   100          24                  16                0   \n",
       "1      98   350          12                  76                0   \n",
       "2       0   300           9                   0                0   \n",
       "3       0   250          12                   0                0   \n",
       "4     100   250          20                   4                0   \n",
       "\n",
       "   Profile_Dermatologists  Profile_ENT Specialist  Profile_General Medicine  \\\n",
       "0                       0                       0                         0   \n",
       "1                       0                       0                         0   \n",
       "2                       0                       1                         0   \n",
       "3                       0                       0                         0   \n",
       "4                       0                       0                         0   \n",
       "\n",
       "   Profile_Homeopath  Place_bangalore  Place_chennai  Place_coimbatore  \\\n",
       "0                  1                0              0                 0   \n",
       "1                  0                1              0                 0   \n",
       "2                  0                1              0                 0   \n",
       "3                  0                1              0                 0   \n",
       "4                  0                0              1                 0   \n",
       "\n",
       "   Place_delhi  Place_ernakulam  Place_hyderabad  Place_mumbai  \\\n",
       "0            0                1                0             0   \n",
       "1            0                0                0             0   \n",
       "2            0                0                0             0   \n",
       "3            0                0                0             0   \n",
       "4            0                0                0             0   \n",
       "\n",
       "   Place_thiruvananthapuram  \n",
       "0                         0  \n",
       "1                         0  \n",
       "2                         0  \n",
       "3                         0  \n",
       "4                         0  "
      ]
     },
     "execution_count": 52,
     "metadata": {},
     "output_type": "execute_result"
    }
   ],
   "source": [
    "data.head()"
   ]
  },
  {
   "cell_type": "code",
   "execution_count": 53,
   "metadata": {},
   "outputs": [
    {
     "data": {
      "text/html": [
       "<div>\n",
       "<style scoped>\n",
       "    .dataframe tbody tr th:only-of-type {\n",
       "        vertical-align: middle;\n",
       "    }\n",
       "\n",
       "    .dataframe tbody tr th {\n",
       "        vertical-align: top;\n",
       "    }\n",
       "\n",
       "    .dataframe thead th {\n",
       "        text-align: right;\n",
       "    }\n",
       "</style>\n",
       "<table border=\"1\" class=\"dataframe\">\n",
       "  <thead>\n",
       "    <tr style=\"text-align: right;\">\n",
       "      <th></th>\n",
       "      <th>Rating</th>\n",
       "      <th>Fees</th>\n",
       "      <th>Exper_year</th>\n",
       "      <th>Number_Of_Feedback</th>\n",
       "      <th>Profile_Dentist</th>\n",
       "      <th>Profile_Dermatologists</th>\n",
       "      <th>Profile_ENT Specialist</th>\n",
       "      <th>Profile_General Medicine</th>\n",
       "      <th>Profile_Homeopath</th>\n",
       "      <th>Place_bangalore</th>\n",
       "      <th>Place_chennai</th>\n",
       "      <th>Place_coimbatore</th>\n",
       "      <th>Place_delhi</th>\n",
       "      <th>Place_ernakulam</th>\n",
       "      <th>Place_hyderabad</th>\n",
       "      <th>Place_mumbai</th>\n",
       "      <th>Place_thiruvananthapuram</th>\n",
       "    </tr>\n",
       "  </thead>\n",
       "  <tbody>\n",
       "    <tr>\n",
       "      <td>count</td>\n",
       "      <td>5961.000000</td>\n",
       "      <td>5961.000000</td>\n",
       "      <td>5961.000000</td>\n",
       "      <td>5961.000000</td>\n",
       "      <td>5961.000000</td>\n",
       "      <td>5961.000000</td>\n",
       "      <td>5961.000000</td>\n",
       "      <td>5961.000000</td>\n",
       "      <td>5961.000000</td>\n",
       "      <td>5961.000000</td>\n",
       "      <td>5961.000000</td>\n",
       "      <td>5961.000000</td>\n",
       "      <td>5961.000000</td>\n",
       "      <td>5961.000000</td>\n",
       "      <td>5961.000000</td>\n",
       "      <td>5961.000000</td>\n",
       "      <td>5961.000000</td>\n",
       "    </tr>\n",
       "    <tr>\n",
       "      <td>mean</td>\n",
       "      <td>42.217245</td>\n",
       "      <td>307.944640</td>\n",
       "      <td>17.303976</td>\n",
       "      <td>10.373427</td>\n",
       "      <td>0.234357</td>\n",
       "      <td>0.173461</td>\n",
       "      <td>0.122127</td>\n",
       "      <td>0.196779</td>\n",
       "      <td>0.141419</td>\n",
       "      <td>0.211038</td>\n",
       "      <td>0.143432</td>\n",
       "      <td>0.038249</td>\n",
       "      <td>0.198792</td>\n",
       "      <td>0.025667</td>\n",
       "      <td>0.159537</td>\n",
       "      <td>0.204496</td>\n",
       "      <td>0.014427</td>\n",
       "    </tr>\n",
       "    <tr>\n",
       "      <td>std</td>\n",
       "      <td>47.340934</td>\n",
       "      <td>190.920373</td>\n",
       "      <td>11.142798</td>\n",
       "      <td>49.603087</td>\n",
       "      <td>0.423632</td>\n",
       "      <td>0.378677</td>\n",
       "      <td>0.327460</td>\n",
       "      <td>0.397597</td>\n",
       "      <td>0.348483</td>\n",
       "      <td>0.408080</td>\n",
       "      <td>0.350543</td>\n",
       "      <td>0.191812</td>\n",
       "      <td>0.399125</td>\n",
       "      <td>0.158153</td>\n",
       "      <td>0.366207</td>\n",
       "      <td>0.403367</td>\n",
       "      <td>0.119253</td>\n",
       "    </tr>\n",
       "    <tr>\n",
       "      <td>min</td>\n",
       "      <td>0.000000</td>\n",
       "      <td>5.000000</td>\n",
       "      <td>0.000000</td>\n",
       "      <td>0.000000</td>\n",
       "      <td>0.000000</td>\n",
       "      <td>0.000000</td>\n",
       "      <td>0.000000</td>\n",
       "      <td>0.000000</td>\n",
       "      <td>0.000000</td>\n",
       "      <td>0.000000</td>\n",
       "      <td>0.000000</td>\n",
       "      <td>0.000000</td>\n",
       "      <td>0.000000</td>\n",
       "      <td>0.000000</td>\n",
       "      <td>0.000000</td>\n",
       "      <td>0.000000</td>\n",
       "      <td>0.000000</td>\n",
       "    </tr>\n",
       "    <tr>\n",
       "      <td>25%</td>\n",
       "      <td>0.000000</td>\n",
       "      <td>150.000000</td>\n",
       "      <td>9.000000</td>\n",
       "      <td>0.000000</td>\n",
       "      <td>0.000000</td>\n",
       "      <td>0.000000</td>\n",
       "      <td>0.000000</td>\n",
       "      <td>0.000000</td>\n",
       "      <td>0.000000</td>\n",
       "      <td>0.000000</td>\n",
       "      <td>0.000000</td>\n",
       "      <td>0.000000</td>\n",
       "      <td>0.000000</td>\n",
       "      <td>0.000000</td>\n",
       "      <td>0.000000</td>\n",
       "      <td>0.000000</td>\n",
       "      <td>0.000000</td>\n",
       "    </tr>\n",
       "    <tr>\n",
       "      <td>50%</td>\n",
       "      <td>0.000000</td>\n",
       "      <td>300.000000</td>\n",
       "      <td>14.000000</td>\n",
       "      <td>0.000000</td>\n",
       "      <td>0.000000</td>\n",
       "      <td>0.000000</td>\n",
       "      <td>0.000000</td>\n",
       "      <td>0.000000</td>\n",
       "      <td>0.000000</td>\n",
       "      <td>0.000000</td>\n",
       "      <td>0.000000</td>\n",
       "      <td>0.000000</td>\n",
       "      <td>0.000000</td>\n",
       "      <td>0.000000</td>\n",
       "      <td>0.000000</td>\n",
       "      <td>0.000000</td>\n",
       "      <td>0.000000</td>\n",
       "    </tr>\n",
       "    <tr>\n",
       "      <td>75%</td>\n",
       "      <td>96.000000</td>\n",
       "      <td>500.000000</td>\n",
       "      <td>23.000000</td>\n",
       "      <td>1.000000</td>\n",
       "      <td>0.000000</td>\n",
       "      <td>0.000000</td>\n",
       "      <td>0.000000</td>\n",
       "      <td>0.000000</td>\n",
       "      <td>0.000000</td>\n",
       "      <td>0.000000</td>\n",
       "      <td>0.000000</td>\n",
       "      <td>0.000000</td>\n",
       "      <td>0.000000</td>\n",
       "      <td>0.000000</td>\n",
       "      <td>0.000000</td>\n",
       "      <td>0.000000</td>\n",
       "      <td>0.000000</td>\n",
       "    </tr>\n",
       "    <tr>\n",
       "      <td>max</td>\n",
       "      <td>100.000000</td>\n",
       "      <td>950.000000</td>\n",
       "      <td>66.000000</td>\n",
       "      <td>1782.000000</td>\n",
       "      <td>1.000000</td>\n",
       "      <td>1.000000</td>\n",
       "      <td>1.000000</td>\n",
       "      <td>1.000000</td>\n",
       "      <td>1.000000</td>\n",
       "      <td>1.000000</td>\n",
       "      <td>1.000000</td>\n",
       "      <td>1.000000</td>\n",
       "      <td>1.000000</td>\n",
       "      <td>1.000000</td>\n",
       "      <td>1.000000</td>\n",
       "      <td>1.000000</td>\n",
       "      <td>1.000000</td>\n",
       "    </tr>\n",
       "  </tbody>\n",
       "</table>\n",
       "</div>"
      ],
      "text/plain": [
       "            Rating         Fees   Exper_year  Number_Of_Feedback  \\\n",
       "count  5961.000000  5961.000000  5961.000000         5961.000000   \n",
       "mean     42.217245   307.944640    17.303976           10.373427   \n",
       "std      47.340934   190.920373    11.142798           49.603087   \n",
       "min       0.000000     5.000000     0.000000            0.000000   \n",
       "25%       0.000000   150.000000     9.000000            0.000000   \n",
       "50%       0.000000   300.000000    14.000000            0.000000   \n",
       "75%      96.000000   500.000000    23.000000            1.000000   \n",
       "max     100.000000   950.000000    66.000000         1782.000000   \n",
       "\n",
       "       Profile_Dentist  Profile_Dermatologists  Profile_ENT Specialist  \\\n",
       "count      5961.000000             5961.000000             5961.000000   \n",
       "mean          0.234357                0.173461                0.122127   \n",
       "std           0.423632                0.378677                0.327460   \n",
       "min           0.000000                0.000000                0.000000   \n",
       "25%           0.000000                0.000000                0.000000   \n",
       "50%           0.000000                0.000000                0.000000   \n",
       "75%           0.000000                0.000000                0.000000   \n",
       "max           1.000000                1.000000                1.000000   \n",
       "\n",
       "       Profile_General Medicine  Profile_Homeopath  Place_bangalore  \\\n",
       "count               5961.000000        5961.000000      5961.000000   \n",
       "mean                   0.196779           0.141419         0.211038   \n",
       "std                    0.397597           0.348483         0.408080   \n",
       "min                    0.000000           0.000000         0.000000   \n",
       "25%                    0.000000           0.000000         0.000000   \n",
       "50%                    0.000000           0.000000         0.000000   \n",
       "75%                    0.000000           0.000000         0.000000   \n",
       "max                    1.000000           1.000000         1.000000   \n",
       "\n",
       "       Place_chennai  Place_coimbatore  Place_delhi  Place_ernakulam  \\\n",
       "count    5961.000000       5961.000000  5961.000000      5961.000000   \n",
       "mean        0.143432          0.038249     0.198792         0.025667   \n",
       "std         0.350543          0.191812     0.399125         0.158153   \n",
       "min         0.000000          0.000000     0.000000         0.000000   \n",
       "25%         0.000000          0.000000     0.000000         0.000000   \n",
       "50%         0.000000          0.000000     0.000000         0.000000   \n",
       "75%         0.000000          0.000000     0.000000         0.000000   \n",
       "max         1.000000          1.000000     1.000000         1.000000   \n",
       "\n",
       "       Place_hyderabad  Place_mumbai  Place_thiruvananthapuram  \n",
       "count      5961.000000   5961.000000               5961.000000  \n",
       "mean          0.159537      0.204496                  0.014427  \n",
       "std           0.366207      0.403367                  0.119253  \n",
       "min           0.000000      0.000000                  0.000000  \n",
       "25%           0.000000      0.000000                  0.000000  \n",
       "50%           0.000000      0.000000                  0.000000  \n",
       "75%           0.000000      0.000000                  0.000000  \n",
       "max           1.000000      1.000000                  1.000000  "
      ]
     },
     "execution_count": 53,
     "metadata": {},
     "output_type": "execute_result"
    }
   ],
   "source": [
    "data.describe()"
   ]
  },
  {
   "cell_type": "markdown",
   "metadata": {},
   "source": [
    "## Feature Selection"
   ]
  },
  {
   "cell_type": "code",
   "execution_count": 54,
   "metadata": {},
   "outputs": [
    {
     "data": {
      "text/plain": [
       "(5961, 17)"
      ]
     },
     "execution_count": 54,
     "metadata": {},
     "output_type": "execute_result"
    }
   ],
   "source": [
    "data.shape"
   ]
  },
  {
   "cell_type": "code",
   "execution_count": 55,
   "metadata": {},
   "outputs": [
    {
     "data": {
      "text/plain": [
       "Index(['Rating', 'Fees', 'Exper_year', 'Number_Of_Feedback', 'Profile_Dentist',\n",
       "       'Profile_Dermatologists', 'Profile_ENT Specialist',\n",
       "       'Profile_General Medicine', 'Profile_Homeopath', 'Place_bangalore',\n",
       "       'Place_chennai', 'Place_coimbatore', 'Place_delhi', 'Place_ernakulam',\n",
       "       'Place_hyderabad', 'Place_mumbai', 'Place_thiruvananthapuram'],\n",
       "      dtype='object')"
      ]
     },
     "execution_count": 55,
     "metadata": {},
     "output_type": "execute_result"
    }
   ],
   "source": [
    "data.columns"
   ]
  },
  {
   "cell_type": "code",
   "execution_count": 57,
   "metadata": {},
   "outputs": [
    {
     "data": {
      "text/html": [
       "<div>\n",
       "<style scoped>\n",
       "    .dataframe tbody tr th:only-of-type {\n",
       "        vertical-align: middle;\n",
       "    }\n",
       "\n",
       "    .dataframe tbody tr th {\n",
       "        vertical-align: top;\n",
       "    }\n",
       "\n",
       "    .dataframe thead th {\n",
       "        text-align: right;\n",
       "    }\n",
       "</style>\n",
       "<table border=\"1\" class=\"dataframe\">\n",
       "  <thead>\n",
       "    <tr style=\"text-align: right;\">\n",
       "      <th></th>\n",
       "      <th>Rating</th>\n",
       "      <th>Exper_year</th>\n",
       "      <th>Number_Of_Feedback</th>\n",
       "      <th>Profile_Dentist</th>\n",
       "      <th>Profile_Dermatologists</th>\n",
       "      <th>Profile_ENT Specialist</th>\n",
       "      <th>Profile_General Medicine</th>\n",
       "      <th>Profile_Homeopath</th>\n",
       "      <th>Place_bangalore</th>\n",
       "      <th>Place_chennai</th>\n",
       "      <th>Place_coimbatore</th>\n",
       "      <th>Place_delhi</th>\n",
       "      <th>Place_ernakulam</th>\n",
       "      <th>Place_hyderabad</th>\n",
       "      <th>Place_mumbai</th>\n",
       "      <th>Place_thiruvananthapuram</th>\n",
       "    </tr>\n",
       "  </thead>\n",
       "  <tbody>\n",
       "    <tr>\n",
       "      <td>0</td>\n",
       "      <td>100</td>\n",
       "      <td>24</td>\n",
       "      <td>16</td>\n",
       "      <td>0</td>\n",
       "      <td>0</td>\n",
       "      <td>0</td>\n",
       "      <td>0</td>\n",
       "      <td>1</td>\n",
       "      <td>0</td>\n",
       "      <td>0</td>\n",
       "      <td>0</td>\n",
       "      <td>0</td>\n",
       "      <td>1</td>\n",
       "      <td>0</td>\n",
       "      <td>0</td>\n",
       "      <td>0</td>\n",
       "    </tr>\n",
       "    <tr>\n",
       "      <td>1</td>\n",
       "      <td>98</td>\n",
       "      <td>12</td>\n",
       "      <td>76</td>\n",
       "      <td>0</td>\n",
       "      <td>0</td>\n",
       "      <td>0</td>\n",
       "      <td>0</td>\n",
       "      <td>0</td>\n",
       "      <td>1</td>\n",
       "      <td>0</td>\n",
       "      <td>0</td>\n",
       "      <td>0</td>\n",
       "      <td>0</td>\n",
       "      <td>0</td>\n",
       "      <td>0</td>\n",
       "      <td>0</td>\n",
       "    </tr>\n",
       "    <tr>\n",
       "      <td>2</td>\n",
       "      <td>0</td>\n",
       "      <td>9</td>\n",
       "      <td>0</td>\n",
       "      <td>0</td>\n",
       "      <td>0</td>\n",
       "      <td>1</td>\n",
       "      <td>0</td>\n",
       "      <td>0</td>\n",
       "      <td>1</td>\n",
       "      <td>0</td>\n",
       "      <td>0</td>\n",
       "      <td>0</td>\n",
       "      <td>0</td>\n",
       "      <td>0</td>\n",
       "      <td>0</td>\n",
       "      <td>0</td>\n",
       "    </tr>\n",
       "    <tr>\n",
       "      <td>3</td>\n",
       "      <td>0</td>\n",
       "      <td>12</td>\n",
       "      <td>0</td>\n",
       "      <td>0</td>\n",
       "      <td>0</td>\n",
       "      <td>0</td>\n",
       "      <td>0</td>\n",
       "      <td>0</td>\n",
       "      <td>1</td>\n",
       "      <td>0</td>\n",
       "      <td>0</td>\n",
       "      <td>0</td>\n",
       "      <td>0</td>\n",
       "      <td>0</td>\n",
       "      <td>0</td>\n",
       "      <td>0</td>\n",
       "    </tr>\n",
       "    <tr>\n",
       "      <td>4</td>\n",
       "      <td>100</td>\n",
       "      <td>20</td>\n",
       "      <td>4</td>\n",
       "      <td>0</td>\n",
       "      <td>0</td>\n",
       "      <td>0</td>\n",
       "      <td>0</td>\n",
       "      <td>0</td>\n",
       "      <td>0</td>\n",
       "      <td>1</td>\n",
       "      <td>0</td>\n",
       "      <td>0</td>\n",
       "      <td>0</td>\n",
       "      <td>0</td>\n",
       "      <td>0</td>\n",
       "      <td>0</td>\n",
       "    </tr>\n",
       "  </tbody>\n",
       "</table>\n",
       "</div>"
      ],
      "text/plain": [
       "   Rating  Exper_year  Number_Of_Feedback  Profile_Dentist  \\\n",
       "0     100          24                  16                0   \n",
       "1      98          12                  76                0   \n",
       "2       0           9                   0                0   \n",
       "3       0          12                   0                0   \n",
       "4     100          20                   4                0   \n",
       "\n",
       "   Profile_Dermatologists  Profile_ENT Specialist  Profile_General Medicine  \\\n",
       "0                       0                       0                         0   \n",
       "1                       0                       0                         0   \n",
       "2                       0                       1                         0   \n",
       "3                       0                       0                         0   \n",
       "4                       0                       0                         0   \n",
       "\n",
       "   Profile_Homeopath  Place_bangalore  Place_chennai  Place_coimbatore  \\\n",
       "0                  1                0              0                 0   \n",
       "1                  0                1              0                 0   \n",
       "2                  0                1              0                 0   \n",
       "3                  0                1              0                 0   \n",
       "4                  0                0              1                 0   \n",
       "\n",
       "   Place_delhi  Place_ernakulam  Place_hyderabad  Place_mumbai  \\\n",
       "0            0                1                0             0   \n",
       "1            0                0                0             0   \n",
       "2            0                0                0             0   \n",
       "3            0                0                0             0   \n",
       "4            0                0                0             0   \n",
       "\n",
       "   Place_thiruvananthapuram  \n",
       "0                         0  \n",
       "1                         0  \n",
       "2                         0  \n",
       "3                         0  \n",
       "4                         0  "
      ]
     },
     "execution_count": 57,
     "metadata": {},
     "output_type": "execute_result"
    }
   ],
   "source": [
    "X = data.loc[:,['Rating', 'Exper_year', 'Number_Of_Feedback', 'Profile_Dentist',\n",
    "       'Profile_Dermatologists', 'Profile_ENT Specialist',\n",
    "       'Profile_General Medicine', 'Profile_Homeopath', 'Place_bangalore',\n",
    "       'Place_chennai', 'Place_coimbatore', 'Place_delhi', 'Place_ernakulam',\n",
    "       'Place_hyderabad', 'Place_mumbai', 'Place_thiruvananthapuram']]\n",
    "\n",
    "X.head()"
   ]
  },
  {
   "cell_type": "code",
   "execution_count": 58,
   "metadata": {},
   "outputs": [
    {
     "data": {
      "text/plain": [
       "0    100\n",
       "1    350\n",
       "2    300\n",
       "3    250\n",
       "4    250\n",
       "Name: Fees, dtype: int64"
      ]
     },
     "execution_count": 58,
     "metadata": {},
     "output_type": "execute_result"
    }
   ],
   "source": [
    "y = data.iloc[:,1]\n",
    "y.head()"
   ]
  },
  {
   "cell_type": "code",
   "execution_count": 61,
   "metadata": {},
   "outputs": [
    {
     "data": {
      "text/plain": [
       "(17.0, 0.0)"
      ]
     },
     "execution_count": 61,
     "metadata": {},
     "output_type": "execute_result"
    },
    {
     "data": {
      "image/png": "[encoded data removed]",
      "text/plain": [
       "<Figure size 1080x720 with 2 Axes>"
      ]
     },
     "metadata": {},
     "output_type": "display_data"
    }
   ],
   "source": [
    "fig, ax = plt.subplots(figsize=(15,10))\n",
    "\n",
    "ax = sns.heatmap(data.corr(), cmap=\"RdYlBu\", annot=True)\n",
    "\n",
    "bottom, top = ax.get_ylim()\n",
    "ax.set_ylim(bottom + 0.5, top-0.5)"
   ]
  },
  {
   "cell_type": "code",
   "execution_count": 63,
   "metadata": {},
   "outputs": [
    {
     "data": {
      "text/plain": [
       "array([0.1728478 , 0.38129266, 0.15146936, 0.00992812, 0.05834083,\n",
       "       0.05192075, 0.017166  , 0.02070234, 0.01423983, 0.01385007,\n",
       "       0.0268872 , 0.03276554, 0.01000097, 0.01302563, 0.02081602,\n",
       "       0.00474689])"
      ]
     },
     "execution_count": 63,
     "metadata": {},
     "output_type": "execute_result"
    }
   ],
   "source": [
    "# Important feature using ExtraTreesRegressor\n",
    "from sklearn.ensemble import ExtraTreesRegressor\n",
    "selection = ExtraTreesRegressor()\n",
    "selection.fit(X, y)\n",
    "selection.feature_importances_"
   ]
  },
  {
   "cell_type": "code",
   "execution_count": 64,
   "metadata": {},
   "outputs": [
    {
     "data": {
      "image/png": "[encoded data removed]",
      "text/plain": [
       "<Figure size 864x576 with 1 Axes>"
      ]
     },
     "metadata": {},
     "output_type": "display_data"
    }
   ],
   "source": [
    "plt.figure(figsize = (12,8))\n",
    "feat_importances = pd.Series(selection.feature_importances_, index=X.columns)\n",
    "feat_importances.nlargest(20).plot(kind='barh')\n",
    "plt.show()"
   ]
  },
  {
   "cell_type": "code",
   "execution_count": 76,
   "metadata": {},
   "outputs": [
    {
     "data": {
      "text/plain": [
       "StandardScaler(copy=True, with_mean=True, with_std=True)"
      ]
     },
     "execution_count": 76,
     "metadata": {},
     "output_type": "execute_result"
    }
   ],
   "source": [
    "from sklearn.preprocessing import StandardScaler\n",
    "scale = StandardScaler()\n",
    "scale.fit(X)"
   ]
  },
  {
   "cell_type": "code",
   "execution_count": 77,
   "metadata": {},
   "outputs": [],
   "source": [
    "X = scale.transform(X)"
   ]
  },
  {
   "cell_type": "code",
   "execution_count": 78,
   "metadata": {},
   "outputs": [
    {
     "data": {
      "text/plain": [
       "array([[ 1.22066882,  0.60097885,  0.11344142, ..., -0.43568378,\n",
       "        -0.50701532, -0.12098883],\n",
       "       [ 1.17841853, -0.47604029,  1.32314503, ..., -0.43568378,\n",
       "        -0.50701532, -0.12098883],\n",
       "       [-0.89184525, -0.74529508, -0.20914621, ..., -0.43568378,\n",
       "        -0.50701532, -0.12098883],\n",
       "       ...,\n",
       "       [ 1.15729339,  2.12675597,  0.01263279, ..., -0.43568378,\n",
       "        -0.50701532, -0.12098883],\n",
       "       [ 1.00941741, -0.20678551, -0.20914621, ..., -0.43568378,\n",
       "         1.97232701, -0.12098883],\n",
       "       [ 1.22066882, -0.02728232, -0.20914621, ..., -0.43568378,\n",
       "        -0.50701532, -0.12098883]])"
      ]
     },
     "execution_count": 78,
     "metadata": {},
     "output_type": "execute_result"
    }
   ],
   "source": [
    "X"
   ]
  },
  {
   "cell_type": "code",
   "execution_count": 83,
   "metadata": {},
   "outputs": [
    {
     "data": {
      "text/plain": [
       "0       100\n",
       "1       350\n",
       "2       300\n",
       "3       250\n",
       "4       250\n",
       "       ... \n",
       "5956    300\n",
       "5957    100\n",
       "5958    600\n",
       "5959    100\n",
       "5960    200\n",
       "Name: Fees, Length: 5961, dtype: int64"
      ]
     },
     "execution_count": 83,
     "metadata": {},
     "output_type": "execute_result"
    }
   ],
   "source": [
    "y"
   ]
  },
  {
   "cell_type": "code",
   "execution_count": 99,
   "metadata": {},
   "outputs": [],
   "source": [
    "from sklearn.model_selection import train_test_split\n",
    "X_train, X_test, y_train, y_test = train_test_split(X, y, test_size = 0.2, random_state = 44)"
   ]
  },
  {
   "cell_type": "code",
   "execution_count": 100,
   "metadata": {},
   "outputs": [
    {
     "name": "stdout",
     "output_type": "stream",
     "text": [
      "0.2109661861325417\n",
      "29739.04434856159\n",
      "134.87102939437025\n"
     ]
    }
   ],
   "source": [
    "line_reg = LinearRegression()\n",
    "line_reg.fit(X_train, y_train)\n",
    "prediction = line_reg.predict(X_test)\n",
    "print(r2_score(y_test, prediction))\n",
    "print(mean_squared_error(y_test, prediction))\n",
    "print(mean_absolute_error(y_test,prediction))"
   ]
  },
  {
   "cell_type": "code",
   "execution_count": 101,
   "metadata": {},
   "outputs": [
    {
     "name": "stdout",
     "output_type": "stream",
     "text": [
      "0.09606719323524482\n",
      "34069.63980001554\n",
      "140.9004542345367\n"
     ]
    }
   ],
   "source": [
    "svr = SVR()\n",
    "svr.fit(X_train, y_train)\n",
    "prediction = svr.predict(X_test)\n",
    "print(r2_score(y_test, prediction))\n",
    "print(mean_squared_error(y_test, prediction))\n",
    "print(mean_absolute_error(y_test,prediction))"
   ]
  },
  {
   "cell_type": "code",
   "execution_count": 102,
   "metadata": {},
   "outputs": [
    {
     "name": "stdout",
     "output_type": "stream",
     "text": [
      "0.03594555063533478\n",
      "36335.65193303603\n",
      "144.149858428031\n"
     ]
    }
   ],
   "source": [
    "rfr = RandomForestRegressor()\n",
    "rfr.fit(X_train, y_train)\n",
    "prediction = rfr.predict(X_test)\n",
    "print(r2_score(y_test, prediction))\n",
    "print(mean_squared_error(y_test, prediction))\n",
    "print(mean_absolute_error(y_test,prediction))"
   ]
  },
  {
   "cell_type": "code",
   "execution_count": 105,
   "metadata": {},
   "outputs": [],
   "source": [
    "import pickle\n",
    "pick = open(\"DoctorConsultation.pkl\", 'wb')\n",
    "pickle.dump(line_reg, pick)\n",
    "pick.close()"
   ]
  }
 ],
 "metadata": {
  "kernelspec": {
   "display_name": "Python 3",
   "language": "python",
   "name": "python3"
  },
  "language_info": {
   "codemirror_mode": {
    "name": "ipython",
    "version": 3
   },
   "file_extension": ".py",
   "mimetype": "text/x-python",
   "name": "python",
   "nbconvert_exporter": "python",
   "pygments_lexer": "ipython3",
   "version": "3.7.4"
  }
 },
 "nbformat": 4,
 "nbformat_minor": 2
}
